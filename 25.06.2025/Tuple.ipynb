{
 "cells": [
  {
   "cell_type": "markdown",
   "id": "7afc63ea-28c8-40cf-bc16-035b7042e662",
   "metadata": {},
   "source": [
    "# Tuple Creation"
   ]
  },
  {
   "cell_type": "code",
   "execution_count": 1,
   "id": "e49fea2d-4d15-46ea-824d-9e87e3566782",
   "metadata": {},
   "outputs": [],
   "source": [
    "t = () # Empty Tuple"
   ]
  },
  {
   "cell_type": "code",
   "execution_count": 2,
   "id": "f1ded502-d854-444d-aecf-e67f9efb5ab7",
   "metadata": {},
   "outputs": [],
   "source": [
    "t1 = (1,2,3,4) # Tuple of integers\n",
    "t2 = (1.1,2.2,3.3,4.4) # Tuple of float \n",
    "t3 = ('one', 'two', 'three') # Tuple of string\n",
    "t4 = (10,'ram', True, 1+2j, 25.5) # Tuple of mixed datatypes"
   ]
  },
  {
   "cell_type": "code",
   "execution_count": 3,
   "id": "9167ee07-af0a-4d59-906b-bb3468090f44",
   "metadata": {},
   "outputs": [],
   "source": [
    "t5 = (10, 20.2, 'ram', (1,2,3), (10, 20)) # Nested truple"
   ]
  },
  {
   "cell_type": "code",
   "execution_count": 4,
   "id": "31a783ed-23a1-482d-ab47-06a0ec60f1a9",
   "metadata": {},
   "outputs": [],
   "source": [
    "t6 = ('ram', 25, [50,100,150], [200,300], {'John', 'David'}, (11,22,33))"
   ]
  },
  {
   "cell_type": "code",
   "execution_count": 5,
   "id": "014fbddc-cb32-48d5-bbdd-da3e5d4eaa23",
   "metadata": {},
   "outputs": [
    {
     "data": {
      "text/plain": [
       "6"
      ]
     },
     "execution_count": 5,
     "metadata": {},
     "output_type": "execute_result"
    }
   ],
   "source": [
    "len(t6) # Length of tuple"
   ]
  },
  {
   "cell_type": "markdown",
   "id": "f257118f-8724-40af-9aa6-401dad0d1695",
   "metadata": {},
   "source": [
    "# Tuple Indexing"
   ]
  },
  {
   "cell_type": "code",
   "execution_count": 6,
   "id": "c6ba5ce8-b6af-4497-a4ba-924c3f02681b",
   "metadata": {},
   "outputs": [
    {
     "data": {
      "text/plain": [
       "1"
      ]
     },
     "execution_count": 6,
     "metadata": {},
     "output_type": "execute_result"
    }
   ],
   "source": [
    "t1[0] # Retreive 1st element of tuple"
   ]
  },
  {
   "cell_type": "code",
   "execution_count": 7,
   "id": "46290c4b-953b-4529-9bdb-d069fa5475f7",
   "metadata": {},
   "outputs": [
    {
     "data": {
      "text/plain": [
       "'one'"
      ]
     },
     "execution_count": 7,
     "metadata": {},
     "output_type": "execute_result"
    }
   ],
   "source": [
    "t3[0]"
   ]
  },
  {
   "cell_type": "code",
   "execution_count": 8,
   "id": "7e621f3e-7acb-46e7-af81-97468607adc7",
   "metadata": {},
   "outputs": [
    {
     "data": {
      "text/plain": [
       "'o'"
      ]
     },
     "execution_count": 8,
     "metadata": {},
     "output_type": "execute_result"
    }
   ],
   "source": [
    "t3[0][0] # Nested Indexing"
   ]
  },
  {
   "cell_type": "code",
   "execution_count": 9,
   "id": "6371944c-6083-469b-b3f9-2afbb43e3fed",
   "metadata": {},
   "outputs": [
    {
     "data": {
      "text/plain": [
       "'three'"
      ]
     },
     "execution_count": 9,
     "metadata": {},
     "output_type": "execute_result"
    }
   ],
   "source": [
    "t3[-1] # Retreive last element of tuple"
   ]
  },
  {
   "cell_type": "code",
   "execution_count": 10,
   "id": "7cb0e03a-e87b-4506-84d7-bb0856e99208",
   "metadata": {},
   "outputs": [
    {
     "data": {
      "text/plain": [
       "(10, 20)"
      ]
     },
     "execution_count": 10,
     "metadata": {},
     "output_type": "execute_result"
    }
   ],
   "source": [
    "t5[-1]"
   ]
  },
  {
   "cell_type": "markdown",
   "id": "c30e750b-a3b1-444d-bf31-b5fecb228691",
   "metadata": {},
   "source": [
    "# Tuple Slicing"
   ]
  },
  {
   "cell_type": "code",
   "execution_count": 26,
   "id": "60064f00-1644-4027-8bf3-68448ef1e48e",
   "metadata": {},
   "outputs": [],
   "source": [
    "mytuple = (10, 20, 30, 40, 50, 60, 70, 80)"
   ]
  },
  {
   "cell_type": "code",
   "execution_count": 27,
   "id": "e4380f89-34b6-49fa-9c81-9cce68d09aeb",
   "metadata": {},
   "outputs": [
    {
     "data": {
      "text/plain": [
       "(10, 20, 30)"
      ]
     },
     "execution_count": 27,
     "metadata": {},
     "output_type": "execute_result"
    }
   ],
   "source": [
    "mytuple[0:3] # Return all item from 0th t0 3rd index (n-1) n = 0, 1, 2, 3...\n",
    "            # Here n = 3 there for 3-1 = 2"
   ]
  },
  {
   "cell_type": "code",
   "execution_count": 28,
   "id": "d6146486-5ce6-44ee-83eb-e251f31305f3",
   "metadata": {},
   "outputs": [
    {
     "data": {
      "text/plain": [
       "(30, 40, 50)"
      ]
     },
     "execution_count": 28,
     "metadata": {},
     "output_type": "execute_result"
    }
   ],
   "source": [
    "mytuple[2:5]"
   ]
  },
  {
   "cell_type": "code",
   "execution_count": 29,
   "id": "35ff6b36-005d-4c2b-8987-5ed94fdd083f",
   "metadata": {},
   "outputs": [
    {
     "data": {
      "text/plain": [
       "(10, 20, 30)"
      ]
     },
     "execution_count": 29,
     "metadata": {},
     "output_type": "execute_result"
    }
   ],
   "source": [
    "mytuple[:3] # Return 1st three item of tuple"
   ]
  },
  {
   "cell_type": "code",
   "execution_count": 30,
   "id": "a9ae360a-bffb-42d3-88ca-5e69f27cf49e",
   "metadata": {},
   "outputs": [
    {
     "data": {
      "text/plain": [
       "(10, 20)"
      ]
     },
     "execution_count": 30,
     "metadata": {},
     "output_type": "execute_result"
    }
   ],
   "source": [
    "mytuple[:2]"
   ]
  },
  {
   "cell_type": "code",
   "execution_count": 31,
   "id": "7fcd73bc-9024-46d6-9723-08273d2daee8",
   "metadata": {},
   "outputs": [
    {
     "data": {
      "text/plain": [
       "(60, 70, 80)"
      ]
     },
     "execution_count": 31,
     "metadata": {},
     "output_type": "execute_result"
    }
   ],
   "source": [
    "mytuple[-3:] # return last three item of tuple"
   ]
  },
  {
   "cell_type": "code",
   "execution_count": 32,
   "id": "67862e5b-2e04-419b-a7c8-fd9dc605a2a3",
   "metadata": {},
   "outputs": [
    {
     "data": {
      "text/plain": [
       "(70, 80)"
      ]
     },
     "execution_count": 32,
     "metadata": {},
     "output_type": "execute_result"
    }
   ],
   "source": [
    "mytuple[-2:]"
   ]
  },
  {
   "cell_type": "code",
   "execution_count": 33,
   "id": "f6c6f539-c012-4979-b3e6-e83b93028bce",
   "metadata": {},
   "outputs": [
    {
     "data": {
      "text/plain": [
       "(10, 20, 30, 40, 50, 60, 70)"
      ]
     },
     "execution_count": 33,
     "metadata": {},
     "output_type": "execute_result"
    }
   ],
   "source": [
    "mytuple[:-1]"
   ]
  },
  {
   "cell_type": "code",
   "execution_count": 34,
   "id": "48496d42-5970-446a-a42d-877e9d03523a",
   "metadata": {},
   "outputs": [
    {
     "data": {
      "text/plain": [
       "80"
      ]
     },
     "execution_count": 34,
     "metadata": {},
     "output_type": "execute_result"
    }
   ],
   "source": [
    "mytuple[-1]"
   ]
  },
  {
   "cell_type": "code",
   "execution_count": 35,
   "id": "192c4422-d05e-41ed-910b-a8361ac3746a",
   "metadata": {},
   "outputs": [
    {
     "data": {
      "text/plain": [
       "(10, 20, 30, 40, 50, 60, 70, 80)"
      ]
     },
     "execution_count": 35,
     "metadata": {},
     "output_type": "execute_result"
    }
   ],
   "source": [
    "mytuple[:] # return whole tuple"
   ]
  },
  {
   "cell_type": "markdown",
   "id": "df223c75-9230-4f07-a39d-77f17f621b6f",
   "metadata": {},
   "source": [
    "# Remove and Change Items"
   ]
  },
  {
   "cell_type": "code",
   "execution_count": 36,
   "id": "1de11344-6c14-4742-8051-b9c231bf159e",
   "metadata": {},
   "outputs": [
    {
     "data": {
      "text/plain": [
       "(10, 20, 30, 40, 50, 60, 70, 80)"
      ]
     },
     "execution_count": 36,
     "metadata": {},
     "output_type": "execute_result"
    }
   ],
   "source": [
    "mytuple"
   ]
  },
  {
   "cell_type": "markdown",
   "id": "0693317e-efdc-4281-a1bb-dad5985c904f",
   "metadata": {},
   "source": [
    "del mytuple[0] # Tuples are immutable which means we cant delete tuple itmes"
   ]
  },
  {
   "cell_type": "code",
   "execution_count": 38,
   "id": "436992a1-45cf-49b2-8fb8-513f1bc270dd",
   "metadata": {},
   "outputs": [
    {
     "ename": "TypeError",
     "evalue": "'tuple' object does not support item assignment",
     "output_type": "error",
     "traceback": [
      "\u001b[1;31m---------------------------------------------------------------------------\u001b[0m",
      "\u001b[1;31mTypeError\u001b[0m                                 Traceback (most recent call last)",
      "Cell \u001b[1;32mIn[38], line 1\u001b[0m\n\u001b[1;32m----> 1\u001b[0m mytuple[\u001b[38;5;241m0\u001b[39m] \u001b[38;5;241m=\u001b[39m \u001b[38;5;124m'\u001b[39m\u001b[38;5;124mone\u001b[39m\u001b[38;5;124m'\u001b[39m\n",
      "\u001b[1;31mTypeError\u001b[0m: 'tuple' object does not support item assignment"
     ]
    }
   ],
   "source": [
    "mytuple[0] = 'one' # Tuples are immutable which means we cant change tuple itmes"
   ]
  },
  {
   "cell_type": "code",
   "execution_count": 39,
   "id": "c8c4e1ee-8c5a-4435-bb79-110fc3cbcabc",
   "metadata": {},
   "outputs": [],
   "source": [
    "del mytuple # Deleting entire tuple object is possible"
   ]
  },
  {
   "cell_type": "code",
   "execution_count": 40,
   "id": "b179f063-42a4-4100-a05b-5642c7090e0d",
   "metadata": {},
   "outputs": [
    {
     "ename": "NameError",
     "evalue": "name 'mytuple' is not defined",
     "output_type": "error",
     "traceback": [
      "\u001b[1;31m---------------------------------------------------------------------------\u001b[0m",
      "\u001b[1;31mNameError\u001b[0m                                 Traceback (most recent call last)",
      "Cell \u001b[1;32mIn[40], line 1\u001b[0m\n\u001b[1;32m----> 1\u001b[0m mytuple\n",
      "\u001b[1;31mNameError\u001b[0m: name 'mytuple' is not defined"
     ]
    }
   ],
   "source": [
    "mytuple"
   ]
  },
  {
   "cell_type": "markdown",
   "id": "03c7feef-0e60-49a3-bd1c-cc3e48a81e5a",
   "metadata": {},
   "source": [
    "# Loop through a Tuple"
   ]
  },
  {
   "cell_type": "code",
   "execution_count": 41,
   "id": "12dee2c5-01aa-44a4-a855-aeb67d885bb7",
   "metadata": {},
   "outputs": [],
   "source": [
    "mytuple1 = ('one','two', 'three', 'four')"
   ]
  },
  {
   "cell_type": "code",
   "execution_count": 42,
   "id": "b346fb92-7f75-4d2d-bf22-28bb6cb3d103",
   "metadata": {},
   "outputs": [
    {
     "data": {
      "text/plain": [
       "('one', 'two', 'three', 'four')"
      ]
     },
     "execution_count": 42,
     "metadata": {},
     "output_type": "execute_result"
    }
   ],
   "source": [
    "mytuple1"
   ]
  },
  {
   "cell_type": "code",
   "execution_count": 43,
   "id": "f90465df-d4d9-40e1-8d7b-cac1d9292cca",
   "metadata": {},
   "outputs": [
    {
     "name": "stdout",
     "output_type": "stream",
     "text": [
      "one\n",
      "two\n",
      "three\n",
      "four\n"
     ]
    }
   ],
   "source": [
    "for i in mytuple1:\n",
    "    print(i)"
   ]
  },
  {
   "cell_type": "code",
   "execution_count": 44,
   "id": "ccd6ed6c-a0f4-4f2a-8694-169bfde04457",
   "metadata": {},
   "outputs": [
    {
     "name": "stdout",
     "output_type": "stream",
     "text": [
      "(0, 'one')\n",
      "(1, 'two')\n",
      "(2, 'three')\n",
      "(3, 'four')\n"
     ]
    }
   ],
   "source": [
    "for i in enumerate(mytuple1):\n",
    "    print(i)"
   ]
  },
  {
   "cell_type": "markdown",
   "id": "c0c771fc-ea51-42d6-ad3a-6b1d5b6dd9b8",
   "metadata": {},
   "source": [
    "# Tuple Membership"
   ]
  },
  {
   "cell_type": "code",
   "execution_count": 45,
   "id": "1a694b0b-7e8b-47ea-98ed-5ea3df59adde",
   "metadata": {},
   "outputs": [
    {
     "data": {
      "text/plain": [
       "('one', 'two', 'three', 'four')"
      ]
     },
     "execution_count": 45,
     "metadata": {},
     "output_type": "execute_result"
    }
   ],
   "source": [
    "mytuple1"
   ]
  },
  {
   "cell_type": "code",
   "execution_count": 46,
   "id": "6f63283d-0175-4430-9bde-a5515e3312ea",
   "metadata": {},
   "outputs": [
    {
     "data": {
      "text/plain": [
       "True"
      ]
     },
     "execution_count": 46,
     "metadata": {},
     "output_type": "execute_result"
    }
   ],
   "source": [
    "'one' in mytuple1 # heck if 'one' exist in the mytuple1"
   ]
  },
  {
   "cell_type": "code",
   "execution_count": 47,
   "id": "9e6f57ce-9a21-4f61-889c-640a088f129f",
   "metadata": {},
   "outputs": [
    {
     "data": {
      "text/plain": [
       "False"
      ]
     },
     "execution_count": 47,
     "metadata": {},
     "output_type": "execute_result"
    }
   ],
   "source": [
    "'six' in mytuple1"
   ]
  },
  {
   "cell_type": "code",
   "execution_count": 48,
   "id": "81d31fd2-5aea-4a40-9167-a68b41404e3f",
   "metadata": {},
   "outputs": [
    {
     "name": "stdout",
     "output_type": "stream",
     "text": [
      "Two is present in mytuple1\n"
     ]
    }
   ],
   "source": [
    "if 'two' in mytuple1:\n",
    "    print(\"Two is present in mytuple1\")\n",
    "else:\n",
    "    print(\"Two is not present in mytuple1\")"
   ]
  },
  {
   "cell_type": "code",
   "execution_count": 49,
   "id": "ca1997a2-4004-4f70-889a-b7d80bb54422",
   "metadata": {},
   "outputs": [
    {
     "name": "stdout",
     "output_type": "stream",
     "text": [
      "Seven is not present in mytuple1\n"
     ]
    }
   ],
   "source": [
    "if 'seven' in mytuple1:\n",
    "    print(\"Seven is present in mytuple1\")\n",
    "else:\n",
    "    print(\"Seven is not present in mytuple1\")"
   ]
  },
  {
   "cell_type": "markdown",
   "id": "09c358d7-f654-4833-b1f7-8add481133bd",
   "metadata": {},
   "source": [
    "# Index Position"
   ]
  },
  {
   "cell_type": "code",
   "execution_count": 50,
   "id": "7a57c508-4944-409c-82ce-3e96bedc0dbd",
   "metadata": {},
   "outputs": [
    {
     "data": {
      "text/plain": [
       "('one', 'two', 'three', 'four')"
      ]
     },
     "execution_count": 50,
     "metadata": {},
     "output_type": "execute_result"
    }
   ],
   "source": [
    "mytuple1"
   ]
  },
  {
   "cell_type": "code",
   "execution_count": 51,
   "id": "ad210f38-c9a2-445f-a3f9-e54f5ae07a55",
   "metadata": {},
   "outputs": [
    {
     "data": {
      "text/plain": [
       "0"
      ]
     },
     "execution_count": 51,
     "metadata": {},
     "output_type": "execute_result"
    }
   ],
   "source": [
    "mytuple1.index('one')"
   ]
  },
  {
   "cell_type": "code",
   "execution_count": 52,
   "id": "be53460a-4f1b-436b-bb84-192f81d7bc2d",
   "metadata": {},
   "outputs": [
    {
     "data": {
      "text/plain": [
       "3"
      ]
     },
     "execution_count": 52,
     "metadata": {},
     "output_type": "execute_result"
    }
   ],
   "source": [
    "mytuple1.index('four')"
   ]
  },
  {
   "cell_type": "markdown",
   "id": "08d357ba-604c-4329-a320-57461ea74091",
   "metadata": {},
   "source": [
    "# Sorting"
   ]
  },
  {
   "cell_type": "code",
   "execution_count": 53,
   "id": "85d3cfff-3a74-4153-a91c-2c50a0a6cf35",
   "metadata": {},
   "outputs": [],
   "source": [
    "mytuple2 = (25,14,55,34,67,87,40)"
   ]
  },
  {
   "cell_type": "code",
   "execution_count": 54,
   "id": "19ab3662-4bb6-40c3-95de-1f07390073c2",
   "metadata": {},
   "outputs": [
    {
     "data": {
      "text/plain": [
       "[14, 25, 34, 40, 55, 67, 87]"
      ]
     },
     "execution_count": 54,
     "metadata": {},
     "output_type": "execute_result"
    }
   ],
   "source": [
    "sorted(mytuple2) # Returns a new sorted list and doesn't change original tuple "
   ]
  },
  {
   "cell_type": "code",
   "execution_count": 55,
   "id": "5e07a8fa-1818-4258-b34d-254646133fde",
   "metadata": {},
   "outputs": [
    {
     "data": {
      "text/plain": [
       "[14, 25, 34, 40, 55, 67, 87]"
      ]
     },
     "execution_count": 55,
     "metadata": {},
     "output_type": "execute_result"
    }
   ],
   "source": [
    "sorted(mytuple2) # Sort in ascending order"
   ]
  },
  {
   "cell_type": "code",
   "execution_count": 56,
   "id": "7dc3e906-faff-440a-83e2-5b270d8f9e69",
   "metadata": {},
   "outputs": [
    {
     "data": {
      "text/plain": [
       "[87, 67, 55, 40, 34, 25, 14]"
      ]
     },
     "execution_count": 56,
     "metadata": {},
     "output_type": "execute_result"
    }
   ],
   "source": [
    "sorted(mytuple2, reverse=True) # Sort in desccending order"
   ]
  },
  {
   "cell_type": "code",
   "execution_count": 57,
   "id": "7a7b8c99-eae2-42eb-932a-40eea75a8d94",
   "metadata": {},
   "outputs": [
    {
     "ename": "AttributeError",
     "evalue": "'tuple' object has no attribute 'sort'",
     "output_type": "error",
     "traceback": [
      "\u001b[1;31m---------------------------------------------------------------------------\u001b[0m",
      "\u001b[1;31mAttributeError\u001b[0m                            Traceback (most recent call last)",
      "Cell \u001b[1;32mIn[57], line 1\u001b[0m\n\u001b[1;32m----> 1\u001b[0m mytuple2\u001b[38;5;241m.\u001b[39msort()\n",
      "\u001b[1;31mAttributeError\u001b[0m: 'tuple' object has no attribute 'sort'"
     ]
    }
   ],
   "source": [
    "mytuple2.sort()"
   ]
  },
  {
   "cell_type": "code",
   "execution_count": null,
   "id": "125dbf02-f298-49f1-b8f8-d0c4a24a5a70",
   "metadata": {},
   "outputs": [],
   "source": []
  }
 ],
 "metadata": {
  "kernelspec": {
   "display_name": "Python 3 (ipykernel)",
   "language": "python",
   "name": "python3"
  },
  "language_info": {
   "codemirror_mode": {
    "name": "ipython",
    "version": 3
   },
   "file_extension": ".py",
   "mimetype": "text/x-python",
   "name": "python",
   "nbconvert_exporter": "python",
   "pygments_lexer": "ipython3",
   "version": "3.12.7"
  }
 },
 "nbformat": 4,
 "nbformat_minor": 5
}
