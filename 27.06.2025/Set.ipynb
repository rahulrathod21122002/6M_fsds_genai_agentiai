{
 "cells": [
  {
   "cell_type": "markdown",
   "id": "ab4a4c28-f939-4fdc-8c53-abcc186c2fbb",
   "metadata": {},
   "source": [
    "# Set creation"
   ]
  },
  {
   "cell_type": "code",
   "execution_count": 1,
   "id": "eb54bb52-749f-4e6f-b5ec-6852988cd0b1",
   "metadata": {},
   "outputs": [],
   "source": [
    "s = set() # Empty Set"
   ]
  },
  {
   "cell_type": "code",
   "execution_count": 2,
   "id": "ec981d4f-10c0-45a1-bffe-9c172c89c35d",
   "metadata": {},
   "outputs": [
    {
     "data": {
      "text/plain": [
       "set"
      ]
     },
     "execution_count": 2,
     "metadata": {},
     "output_type": "execute_result"
    }
   ],
   "source": [
    "type(s)"
   ]
  },
  {
   "cell_type": "code",
   "execution_count": 2,
   "id": "3efb7e82-d30e-4600-81b5-068c1ee54f73",
   "metadata": {},
   "outputs": [
    {
     "data": {
      "text/plain": [
       "{1, 2, 3, 4, 5, 6}"
      ]
     },
     "execution_count": 2,
     "metadata": {},
     "output_type": "execute_result"
    }
   ],
   "source": [
    "myset = {1,2,3,4,5,6} # Set of integer numbers\n",
    "myset"
   ]
  },
  {
   "cell_type": "code",
   "execution_count": 4,
   "id": "2db89299-11ef-4841-98dd-885a8a0b60be",
   "metadata": {},
   "outputs": [
    {
     "data": {
      "text/plain": [
       "6"
      ]
     },
     "execution_count": 4,
     "metadata": {},
     "output_type": "execute_result"
    }
   ],
   "source": [
    "len(myset) # Length of the set"
   ]
  },
  {
   "cell_type": "code",
   "execution_count": 5,
   "id": "689cd8d3-be82-4f9b-b293-912586712869",
   "metadata": {},
   "outputs": [
    {
     "data": {
      "text/plain": [
       "{1, 2, 3, 4, 5}"
      ]
     },
     "execution_count": 5,
     "metadata": {},
     "output_type": "execute_result"
    }
   ],
   "source": [
    "my_set = {1,2,3,1,2,3,2,3,4,5,5}\n",
    "my_set   # Duplicate items are not allowed in set"
   ]
  },
  {
   "cell_type": "code",
   "execution_count": 6,
   "id": "a2491bc2-6c56-4e67-a674-f22fe7428626",
   "metadata": {},
   "outputs": [
    {
     "data": {
      "text/plain": [
       "{1.1, 2.2, 3.3, 4.4, 5.5, 6.6}"
      ]
     },
     "execution_count": 6,
     "metadata": {},
     "output_type": "execute_result"
    }
   ],
   "source": [
    "myset1 = {1.1,2.2,3.3,4.4,5.5,6.6} # Set of float numbers\n",
    "myset1"
   ]
  },
  {
   "cell_type": "code",
   "execution_count": 7,
   "id": "f5599f01-397b-471d-94ca-674dd75c9cac",
   "metadata": {},
   "outputs": [
    {
     "data": {
      "text/plain": [
       "{'five', 'four', 'one', 'six', 'three', 'two'}"
      ]
     },
     "execution_count": 7,
     "metadata": {},
     "output_type": "execute_result"
    }
   ],
   "source": [
    "myset2 = {'one', 'two', 'three', 'four', 'five', 'six'} # Set of Strings\n",
    "myset2   # it will ordered by alphabate"
   ]
  },
  {
   "cell_type": "code",
   "execution_count": 9,
   "id": "d36ca792-611f-4db7-8692-9b23e640f1a1",
   "metadata": {},
   "outputs": [
    {
     "data": {
      "text/plain": [
       "{(1, 2, 3), 10, 20, 25.5, True, 'ram'}"
      ]
     },
     "execution_count": 9,
     "metadata": {},
     "output_type": "execute_result"
    }
   ],
   "source": [
    "myset3 = {10,20,'ram',(1,2,3),True,25.5} # Set of Mixed datatypes\n",
    "myset3"
   ]
  },
  {
   "cell_type": "code",
   "execution_count": 10,
   "id": "ad91c3a5-3e7d-4a0a-a76a-bef9a47eb160",
   "metadata": {},
   "outputs": [
    {
     "ename": "TypeError",
     "evalue": "unhashable type: 'list'",
     "output_type": "error",
     "traceback": [
      "\u001b[1;31m---------------------------------------------------------------------------\u001b[0m",
      "\u001b[1;31mTypeError\u001b[0m                                 Traceback (most recent call last)",
      "Cell \u001b[1;32mIn[10], line 1\u001b[0m\n\u001b[1;32m----> 1\u001b[0m myset4 \u001b[38;5;241m=\u001b[39m {\u001b[38;5;241m10\u001b[39m,\u001b[38;5;241m20\u001b[39m,\u001b[38;5;124m'\u001b[39m\u001b[38;5;124mram\u001b[39m\u001b[38;5;124m'\u001b[39m,(\u001b[38;5;241m1\u001b[39m,\u001b[38;5;241m2\u001b[39m,\u001b[38;5;241m3\u001b[39m),\u001b[38;5;28;01mTrue\u001b[39;00m,\u001b[38;5;241m25.5\u001b[39m,[\u001b[38;5;241m1\u001b[39m,\u001b[38;5;241m2\u001b[39m,\u001b[38;5;241m3\u001b[39m]} \u001b[38;5;66;03m# Set doesn't allow mutable items like List\u001b[39;00m\n\u001b[0;32m      2\u001b[0m myseet4\n",
      "\u001b[1;31mTypeError\u001b[0m: unhashable type: 'list'"
     ]
    }
   ],
   "source": [
    "myset4 = {10,20,'ram',(1,2,3),True,25.5,[1,2,3]} # Set doesn't allow mutable items like List\n",
    "myseet4"
   ]
  },
  {
   "cell_type": "code",
   "execution_count": 11,
   "id": "f51f4b2a-d142-4c3f-b8a3-45edf3b8d264",
   "metadata": {},
   "outputs": [
    {
     "data": {
      "text/plain": [
       "{1, 2, 3, 4}"
      ]
     },
     "execution_count": 11,
     "metadata": {},
     "output_type": "execute_result"
    }
   ],
   "source": [
    "myset5 = set((1,2,3,4))\n",
    "myset5"
   ]
  },
  {
   "cell_type": "markdown",
   "id": "dc61d94a-bac9-4780-b6e6-29de1245f576",
   "metadata": {},
   "source": [
    "# Loop through a Set"
   ]
  },
  {
   "cell_type": "code",
   "execution_count": 12,
   "id": "dcf1d080-de94-486f-bf6a-2765c4208ae6",
   "metadata": {},
   "outputs": [
    {
     "name": "stdout",
     "output_type": "stream",
     "text": [
      "1\n",
      "2\n",
      "3\n",
      "4\n",
      "5\n",
      "6\n"
     ]
    }
   ],
   "source": [
    "myset = {1,2,3,4,5,6}\n",
    "\n",
    "for i in myset:\n",
    "    print(i)"
   ]
  },
  {
   "cell_type": "code",
   "execution_count": 14,
   "id": "6592b344-2b1e-4227-8d44-e20c6539e1d7",
   "metadata": {},
   "outputs": [
    {
     "name": "stdout",
     "output_type": "stream",
     "text": [
      "(0, 1)\n",
      "(1, 2)\n",
      "(2, 3)\n",
      "(3, 4)\n",
      "(4, 5)\n",
      "(5, 6)\n"
     ]
    }
   ],
   "source": [
    "for i in enumerate(myset):\n",
    "    print(i)"
   ]
  },
  {
   "cell_type": "markdown",
   "id": "f09871d6-1cc3-40a5-9d04-83690e539c8e",
   "metadata": {},
   "source": [
    "# Set Membership"
   ]
  },
  {
   "cell_type": "code",
   "execution_count": 15,
   "id": "0873e599-e850-4d5d-9ef1-cde918325ef9",
   "metadata": {},
   "outputs": [
    {
     "data": {
      "text/plain": [
       "{1, 2, 3, 4, 5, 6}"
      ]
     },
     "execution_count": 15,
     "metadata": {},
     "output_type": "execute_result"
    }
   ],
   "source": [
    "myset"
   ]
  },
  {
   "cell_type": "code",
   "execution_count": 17,
   "id": "f888af8e-d83a-4d6a-969e-310f1d5fda60",
   "metadata": {},
   "outputs": [
    {
     "data": {
      "text/plain": [
       "True"
      ]
     },
     "execution_count": 17,
     "metadata": {},
     "output_type": "execute_result"
    }
   ],
   "source": [
    "1 in myset # Check presence of item in set"
   ]
  },
  {
   "cell_type": "code",
   "execution_count": 18,
   "id": "e75992a6-7eed-45db-bc60-03f590212815",
   "metadata": {},
   "outputs": [
    {
     "data": {
      "text/plain": [
       "False"
      ]
     },
     "execution_count": 18,
     "metadata": {},
     "output_type": "execute_result"
    }
   ],
   "source": [
    "7 in myset"
   ]
  },
  {
   "cell_type": "code",
   "execution_count": 19,
   "id": "b89ea567-0fc5-4f94-b0c1-a12a775aa56e",
   "metadata": {},
   "outputs": [
    {
     "name": "stdout",
     "output_type": "stream",
     "text": [
      "1 is present in myset\n"
     ]
    }
   ],
   "source": [
    "if 1 in myset: # Check if 1 is present in set or not\n",
    "    print(\"1 is present in myset\")\n",
    "else:\n",
    "     print(\"1 is not present in myset\")"
   ]
  },
  {
   "cell_type": "code",
   "execution_count": 20,
   "id": "232ce6e2-17fa-411c-882a-dc8c9f205760",
   "metadata": {},
   "outputs": [
    {
     "name": "stdout",
     "output_type": "stream",
     "text": [
      "7 is not present in myset\n"
     ]
    }
   ],
   "source": [
    "if 7 in myset: # Check if 7 is present in set or not\n",
    "    print(\"7 is present in myset\")\n",
    "else:\n",
    "     print(\"7 is not present in myset\")"
   ]
  },
  {
   "cell_type": "markdown",
   "id": "96df3dc6-9a17-415b-b55f-754c1a57e96c",
   "metadata": {},
   "source": [
    "# Add & Remove Items"
   ]
  },
  {
   "cell_type": "code",
   "execution_count": 21,
   "id": "931310c6-741d-4f5e-bb08-eed2db105b6a",
   "metadata": {},
   "outputs": [
    {
     "data": {
      "text/plain": [
       "{1, 2, 3, 4, 5, 6}"
      ]
     },
     "execution_count": 21,
     "metadata": {},
     "output_type": "execute_result"
    }
   ],
   "source": [
    "myset"
   ]
  },
  {
   "cell_type": "code",
   "execution_count": 22,
   "id": "34d5a6ee-0574-4907-b7dc-e33d43e74734",
   "metadata": {},
   "outputs": [
    {
     "data": {
      "text/plain": [
       "{1, 2, 3, 4, 5, 6, 7}"
      ]
     },
     "execution_count": 22,
     "metadata": {},
     "output_type": "execute_result"
    }
   ],
   "source": [
    "myset.add(7) # Add item to set using add() method\n",
    "myset"
   ]
  },
  {
   "cell_type": "code",
   "execution_count": 23,
   "id": "e571ed97-22d2-4a98-b689-f81bfd699ae3",
   "metadata": {},
   "outputs": [
    {
     "data": {
      "text/plain": [
       "True"
      ]
     },
     "execution_count": 23,
     "metadata": {},
     "output_type": "execute_result"
    }
   ],
   "source": [
    "7 in myset"
   ]
  },
  {
   "cell_type": "code",
   "execution_count": 25,
   "id": "d8745e57-ee6c-40ab-8f6b-c4d5fb2f8122",
   "metadata": {},
   "outputs": [
    {
     "data": {
      "text/plain": [
       "{1, 2, 3, 4, 5, 6, 7, 8, 9}"
      ]
     },
     "execution_count": 25,
     "metadata": {},
     "output_type": "execute_result"
    }
   ],
   "source": [
    "myset.add(8)\n",
    "myset"
   ]
  },
  {
   "cell_type": "code",
   "execution_count": 26,
   "id": "0d8446c0-02ee-418a-a883-313378782d11",
   "metadata": {},
   "outputs": [
    {
     "data": {
      "text/plain": [
       "{1, 2, 3, 4, 5, 6, 7, 8, 9}"
      ]
     },
     "execution_count": 26,
     "metadata": {},
     "output_type": "execute_result"
    }
   ],
   "source": [
    "myset.add(9)\n",
    "myset"
   ]
  },
  {
   "cell_type": "code",
   "execution_count": 28,
   "id": "1078aff1-f5c8-4311-a108-91f203c7876c",
   "metadata": {},
   "outputs": [
    {
     "data": {
      "text/plain": [
       "{1, 2, 3, 4, 5, 6, 7, 8, 9, 10, 11, 12}"
      ]
     },
     "execution_count": 28,
     "metadata": {},
     "output_type": "execute_result"
    }
   ],
   "source": [
    "myset.update([10,11,12]) # Add multipe items to a set using update() method\n",
    "myset"
   ]
  },
  {
   "cell_type": "code",
   "execution_count": 29,
   "id": "61e5ed42-84e0-4999-a7ab-cbc04ee06e71",
   "metadata": {},
   "outputs": [
    {
     "data": {
      "text/plain": [
       "{1, 2, 3, 4, 5, 6, 7, 8, 10, 11, 12}"
      ]
     },
     "execution_count": 29,
     "metadata": {},
     "output_type": "execute_result"
    }
   ],
   "source": [
    "myset.remove(9) # Remove item from set using remove() method\n",
    "myset"
   ]
  },
  {
   "cell_type": "code",
   "execution_count": 30,
   "id": "c191890a-bbdf-4171-bcb6-6e8ccea859f7",
   "metadata": {},
   "outputs": [
    {
     "data": {
      "text/plain": [
       "{1, 2, 3, 4, 5, 6, 7, 8, 11, 12}"
      ]
     },
     "execution_count": 30,
     "metadata": {},
     "output_type": "execute_result"
    }
   ],
   "source": [
    "myset.discard(10) # # Remove item from set using discard() method\n",
    "myset"
   ]
  },
  {
   "cell_type": "code",
   "execution_count": 32,
   "id": "b36b5cea-3248-4199-9ef4-604d6686af30",
   "metadata": {},
   "outputs": [
    {
     "data": {
      "text/plain": [
       "{1, 2, 3, 4, 5, 6, 7, 8, 11, 12}"
      ]
     },
     "execution_count": 32,
     "metadata": {},
     "output_type": "execute_result"
    }
   ],
   "source": [
    "myset.discard(13) # discard() method executed without error even item is not present in the set \n",
    "myset"
   ]
  },
  {
   "cell_type": "code",
   "execution_count": 33,
   "id": "27e430ba-2adf-496b-af36-5a4b8a2292af",
   "metadata": {},
   "outputs": [
    {
     "data": {
      "text/plain": [
       "set()"
      ]
     },
     "execution_count": 33,
     "metadata": {},
     "output_type": "execute_result"
    }
   ],
   "source": [
    "myset.clear() # Delete all item in a set\n",
    "myset"
   ]
  },
  {
   "cell_type": "code",
   "execution_count": 34,
   "id": "e08b627d-6773-4451-9f99-14be12f600b4",
   "metadata": {},
   "outputs": [
    {
     "ename": "NameError",
     "evalue": "name 'myset' is not defined",
     "output_type": "error",
     "traceback": [
      "\u001b[1;31m---------------------------------------------------------------------------\u001b[0m",
      "\u001b[1;31mNameError\u001b[0m                                 Traceback (most recent call last)",
      "Cell \u001b[1;32mIn[34], line 2\u001b[0m\n\u001b[0;32m      1\u001b[0m \u001b[38;5;28;01mdel\u001b[39;00m myset \u001b[38;5;66;03m# Delete the set object\u001b[39;00m\n\u001b[1;32m----> 2\u001b[0m myset\n",
      "\u001b[1;31mNameError\u001b[0m: name 'myset' is not defined"
     ]
    }
   ],
   "source": [
    "del myset # Delete the set object\n",
    "myset"
   ]
  },
  {
   "cell_type": "markdown",
   "id": "ebe9bbb3-d8b8-48ed-a19b-1351eb3bd32e",
   "metadata": {},
   "source": [
    "# Copy Set"
   ]
  },
  {
   "cell_type": "code",
   "execution_count": 35,
   "id": "bb31288d-c1f7-4f96-ba93-a007f52c5953",
   "metadata": {},
   "outputs": [
    {
     "data": {
      "text/plain": [
       "{1, 2, 3, 4, 5, 6, 7}"
      ]
     },
     "execution_count": 35,
     "metadata": {},
     "output_type": "execute_result"
    }
   ],
   "source": [
    "myset = {1,2,3,4,5,6,7}\n",
    "myset"
   ]
  },
  {
   "cell_type": "code",
   "execution_count": 36,
   "id": "67f6d647-1078-4907-a46c-ebc89caf7caf",
   "metadata": {},
   "outputs": [
    {
     "data": {
      "text/plain": [
       "{1, 2, 3, 4, 5, 6, 7}"
      ]
     },
     "execution_count": 36,
     "metadata": {},
     "output_type": "execute_result"
    }
   ],
   "source": [
    "myset1 = myset # Create a new reference 'myset1'\n",
    "myset1"
   ]
  },
  {
   "cell_type": "code",
   "execution_count": 37,
   "id": "efa1a4ed-b285-45f8-bf6b-f77f65dc7b31",
   "metadata": {},
   "outputs": [
    {
     "data": {
      "text/plain": [
       "(1745891980256, 1745891980256)"
      ]
     },
     "execution_count": 37,
     "metadata": {},
     "output_type": "execute_result"
    }
   ],
   "source": [
    "id(myset), id(myset1) # The id of bothe set 'myset' & 'myset1' will be same"
   ]
  },
  {
   "cell_type": "code",
   "execution_count": 38,
   "id": "d4bca5a4-9c2b-4c8a-a777-3305bf418672",
   "metadata": {},
   "outputs": [
    {
     "data": {
      "text/plain": [
       "{1, 2, 3, 4, 5, 6, 7}"
      ]
     },
     "execution_count": 38,
     "metadata": {},
     "output_type": "execute_result"
    }
   ],
   "source": [
    "my_set = myset.copy() # Create a copy of the set\n",
    "my_set"
   ]
  },
  {
   "cell_type": "code",
   "execution_count": 39,
   "id": "7f7e6670-b164-4720-a121-28c4da299467",
   "metadata": {},
   "outputs": [
    {
     "data": {
      "text/plain": [
       "(1745897646432, 1745891980256)"
      ]
     },
     "execution_count": 39,
     "metadata": {},
     "output_type": "execute_result"
    }
   ],
   "source": [
    "id(my_set), id(myset)"
   ]
  },
  {
   "cell_type": "code",
   "execution_count": 40,
   "id": "765a051b-0938-4fd2-8148-a56fd375c2bb",
   "metadata": {},
   "outputs": [
    {
     "data": {
      "text/plain": [
       "{1, 2, 3, 4, 5, 6, 7, 9}"
      ]
     },
     "execution_count": 40,
     "metadata": {},
     "output_type": "execute_result"
    }
   ],
   "source": [
    "myset.add(9)\n",
    "myset"
   ]
  },
  {
   "cell_type": "code",
   "execution_count": 41,
   "id": "a7d507fe-abf4-4e39-b0c7-17204622125e",
   "metadata": {},
   "outputs": [
    {
     "data": {
      "text/plain": [
       "{1, 2, 3, 4, 5, 6, 7, 9}"
      ]
     },
     "execution_count": 41,
     "metadata": {},
     "output_type": "execute_result"
    }
   ],
   "source": [
    "myset1 # myset1 will be also impacted as it is pointing to the same set"
   ]
  },
  {
   "cell_type": "code",
   "execution_count": 42,
   "id": "a7bcf357-1bb2-4dc4-ad2d-bcde4945ee6b",
   "metadata": {},
   "outputs": [
    {
     "data": {
      "text/plain": [
       "{1, 2, 3, 4, 5, 6, 7}"
      ]
     },
     "execution_count": 42,
     "metadata": {},
     "output_type": "execute_result"
    }
   ],
   "source": [
    "my_set # Copy of the set won't be impacted due to changes made on the original Set"
   ]
  },
  {
   "cell_type": "markdown",
   "id": "7e3ced34-9689-46ad-a48a-26958ad19cf0",
   "metadata": {},
   "source": [
    "# Set Operations"
   ]
  },
  {
   "cell_type": "markdown",
   "id": "e009c115-7e15-4edc-bf2d-39f08cc8958a",
   "metadata": {},
   "source": [
    "Union"
   ]
  },
  {
   "cell_type": "code",
   "execution_count": 43,
   "id": "ee7f5234-8145-4e6a-bbcf-5ea07d887985",
   "metadata": {},
   "outputs": [],
   "source": [
    "a = {1,2,3,4,5}\n",
    "b = {4,5,6,7,8}\n",
    "c = {8,9,10}"
   ]
  },
  {
   "cell_type": "code",
   "execution_count": 44,
   "id": "8155c34f-a22f-4643-beda-266906b6f8ee",
   "metadata": {},
   "outputs": [
    {
     "data": {
      "text/plain": [
       "{1, 2, 3, 4, 5, 6, 7, 8}"
      ]
     },
     "execution_count": 44,
     "metadata": {},
     "output_type": "execute_result"
    }
   ],
   "source": [
    "a | b # Union of a & b (All elements from bot sets. No Duplicates)"
   ]
  },
  {
   "cell_type": "code",
   "execution_count": 45,
   "id": "6d5bb3d2-1d6a-4676-a27b-a9888325af23",
   "metadata": {},
   "outputs": [
    {
     "data": {
      "text/plain": [
       "{1, 2, 3, 4, 5, 6, 7, 8}"
      ]
     },
     "execution_count": 45,
     "metadata": {},
     "output_type": "execute_result"
    }
   ],
   "source": [
    "a.union(b) # Union of a & b"
   ]
  },
  {
   "cell_type": "code",
   "execution_count": 46,
   "id": "3ea8c91b-1cc9-4956-baf9-c9adeaf1eaba",
   "metadata": {},
   "outputs": [
    {
     "data": {
      "text/plain": [
       "{1, 2, 3, 4, 5, 6, 7, 8, 9, 10}"
      ]
     },
     "execution_count": 46,
     "metadata": {},
     "output_type": "execute_result"
    }
   ],
   "source": [
    "a | b | c # Union of a , b and c"
   ]
  },
  {
   "cell_type": "code",
   "execution_count": 47,
   "id": "c801cb0d-a859-4035-a0de-b060d536045f",
   "metadata": {},
   "outputs": [
    {
     "data": {
      "text/plain": [
       "{1, 2, 3, 4, 5, 6, 7, 8, 9, 10}"
      ]
     },
     "execution_count": 47,
     "metadata": {},
     "output_type": "execute_result"
    }
   ],
   "source": [
    "a.union(b ,c) # Union of a , b and c"
   ]
  },
  {
   "cell_type": "code",
   "execution_count": null,
   "id": "44756c1d-09e5-40ad-bbb3-fda0590fa8aa",
   "metadata": {},
   "outputs": [],
   "source": [
    "a."
   ]
  },
  {
   "cell_type": "markdown",
   "id": "87fcc7c8-5fbd-4749-a405-a8e869b29258",
   "metadata": {},
   "source": [
    "Intersection"
   ]
  },
  {
   "cell_type": "code",
   "execution_count": 56,
   "id": "43ff89b4-986b-431e-945d-86d6fe766f60",
   "metadata": {},
   "outputs": [],
   "source": [
    "a = {1,2,3,4,5}\n",
    "b = {4,5,6,7,8}\n",
    "c = {8,9,10}"
   ]
  },
  {
   "cell_type": "code",
   "execution_count": 57,
   "id": "84b4bb6b-c890-413f-9911-d828ff10b574",
   "metadata": {},
   "outputs": [
    {
     "data": {
      "text/plain": [
       "{4, 5}"
      ]
     },
     "execution_count": 57,
     "metadata": {},
     "output_type": "execute_result"
    }
   ],
   "source": [
    "a & b # Intersection of a and b (Common elements in both sets)"
   ]
  },
  {
   "cell_type": "code",
   "execution_count": 58,
   "id": "a160959f-df36-4d57-ae24-bab723fb5c8e",
   "metadata": {},
   "outputs": [
    {
     "data": {
      "text/plain": [
       "{4, 5}"
      ]
     },
     "execution_count": 58,
     "metadata": {},
     "output_type": "execute_result"
    }
   ],
   "source": [
    "a.intersection(b)"
   ]
  },
  {
   "cell_type": "code",
   "execution_count": 59,
   "id": "96f55a39-ffa5-4720-9ff0-3ea3e1678710",
   "metadata": {},
   "outputs": [
    {
     "data": {
      "text/plain": [
       "set()"
      ]
     },
     "execution_count": 59,
     "metadata": {},
     "output_type": "execute_result"
    }
   ],
   "source": [
    "a & b & c # Intersection of a, b and c (Common elements in all three sets)"
   ]
  },
  {
   "cell_type": "code",
   "execution_count": 60,
   "id": "70e1d252-3749-4df9-92ab-17a54312899f",
   "metadata": {},
   "outputs": [
    {
     "data": {
      "text/plain": [
       "set()"
      ]
     },
     "execution_count": 60,
     "metadata": {},
     "output_type": "execute_result"
    }
   ],
   "source": [
    "a.intersection(b, c)"
   ]
  },
  {
   "cell_type": "code",
   "execution_count": 73,
   "id": "7866e659-1c8e-490b-a5aa-31eaa32bb5a3",
   "metadata": {},
   "outputs": [
    {
     "data": {
      "text/plain": [
       "set()"
      ]
     },
     "execution_count": 73,
     "metadata": {},
     "output_type": "execute_result"
    }
   ],
   "source": [
    "a.intersection_update(b)\n",
    "a"
   ]
  },
  {
   "cell_type": "markdown",
   "id": "5731d4c9-e66a-4841-8d80-2caaa6e61ae6",
   "metadata": {},
   "source": [
    "# Difference"
   ]
  },
  {
   "cell_type": "code",
   "execution_count": 62,
   "id": "ffc3a999-a763-4389-845e-410bf5704cdf",
   "metadata": {},
   "outputs": [],
   "source": [
    "a = {1,2,3,4,5}\n",
    "b = {4,5,6,7,8}\n",
    "c = {8,9,10}"
   ]
  },
  {
   "cell_type": "code",
   "execution_count": 63,
   "id": "6cd489ee-e84a-4d15-b776-e0b3657e1a5f",
   "metadata": {},
   "outputs": [
    {
     "data": {
      "text/plain": [
       "{1, 2, 3}"
      ]
     },
     "execution_count": 63,
     "metadata": {},
     "output_type": "execute_result"
    }
   ],
   "source": [
    "a - b # set of elements that are only in a but not in b"
   ]
  },
  {
   "cell_type": "code",
   "execution_count": 64,
   "id": "6980a616-68de-42fc-b5d7-ef9cbdd3c11b",
   "metadata": {},
   "outputs": [
    {
     "data": {
      "text/plain": [
       "{1, 2, 3}"
      ]
     },
     "execution_count": 64,
     "metadata": {},
     "output_type": "execute_result"
    }
   ],
   "source": [
    "a.difference(b)"
   ]
  },
  {
   "cell_type": "code",
   "execution_count": 66,
   "id": "ada12b59-d7ca-489d-9a9f-3a57bb21c622",
   "metadata": {},
   "outputs": [
    {
     "data": {
      "text/plain": [
       "{1, 2, 3, 4, 5}"
      ]
     },
     "execution_count": 66,
     "metadata": {},
     "output_type": "execute_result"
    }
   ],
   "source": [
    "a.difference(c)"
   ]
  },
  {
   "cell_type": "code",
   "execution_count": 67,
   "id": "32988962-619a-4205-bc9d-d7640c6b0bb5",
   "metadata": {},
   "outputs": [
    {
     "data": {
      "text/plain": [
       "{6, 7, 8}"
      ]
     },
     "execution_count": 67,
     "metadata": {},
     "output_type": "execute_result"
    }
   ],
   "source": [
    "b - a"
   ]
  },
  {
   "cell_type": "code",
   "execution_count": 68,
   "id": "5865bb3c-de8d-4084-b284-7fb6f6ac2691",
   "metadata": {},
   "outputs": [
    {
     "data": {
      "text/plain": [
       "{6, 7, 8}"
      ]
     },
     "execution_count": 68,
     "metadata": {},
     "output_type": "execute_result"
    }
   ],
   "source": [
    "b.difference(a)"
   ]
  },
  {
   "cell_type": "code",
   "execution_count": 74,
   "id": "8164b089-cfea-4c04-85a5-078e888d10aa",
   "metadata": {},
   "outputs": [
    {
     "data": {
      "text/plain": [
       "{4, 5, 6, 7, 8}"
      ]
     },
     "execution_count": 74,
     "metadata": {},
     "output_type": "execute_result"
    }
   ],
   "source": [
    "b.difference_update(a)\n",
    "b"
   ]
  },
  {
   "cell_type": "code",
   "execution_count": 75,
   "id": "15fd14ec-0a23-4090-a1d1-9aa7ee00d028",
   "metadata": {},
   "outputs": [
    {
     "data": {
      "text/plain": [
       "{1, 2}"
      ]
     },
     "execution_count": 75,
     "metadata": {},
     "output_type": "execute_result"
    }
   ],
   "source": [
    "A = {1,2,3,4}\n",
    "B = {3,4,5,6}\n",
    "A.difference_update(B)\n",
    "A"
   ]
  },
  {
   "cell_type": "markdown",
   "id": "94540ec4-b386-44db-b01a-202f4842b480",
   "metadata": {},
   "source": [
    "# Symmetric Difference"
   ]
  },
  {
   "cell_type": "code",
   "execution_count": 76,
   "id": "a43241d9-b008-4623-b9bb-83e62a81796c",
   "metadata": {},
   "outputs": [],
   "source": [
    "a = {1,2,3,4,5}\n",
    "b = {4,5,6,7,8}\n",
    "c = {8,9,10}"
   ]
  },
  {
   "cell_type": "code",
   "execution_count": 77,
   "id": "137f71a9-7708-4716-804e-06d981e5a831",
   "metadata": {},
   "outputs": [
    {
     "data": {
      "text/plain": [
       "{1, 2, 3, 6, 7, 8}"
      ]
     },
     "execution_count": 77,
     "metadata": {},
     "output_type": "execute_result"
    }
   ],
   "source": [
    "a ^ b # Symmetric difference (Set of elements in a and b but not in both.)"
   ]
  },
  {
   "cell_type": "code",
   "execution_count": 78,
   "id": "6c0faeca-5f50-4217-a3d9-6534573c0aca",
   "metadata": {},
   "outputs": [
    {
     "data": {
      "text/plain": [
       "{1, 2, 3, 6, 7, 8}"
      ]
     },
     "execution_count": 78,
     "metadata": {},
     "output_type": "execute_result"
    }
   ],
   "source": [
    "b.symmetric_difference(a)"
   ]
  },
  {
   "cell_type": "code",
   "execution_count": 79,
   "id": "a8ebd4e4-38ca-42ff-95d9-eb1f69c47d94",
   "metadata": {},
   "outputs": [
    {
     "data": {
      "text/plain": [
       "{1, 2, 3, 6, 7, 8}"
      ]
     },
     "execution_count": 79,
     "metadata": {},
     "output_type": "execute_result"
    }
   ],
   "source": [
    "a.symmetric_difference_update(b)\n",
    "a"
   ]
  },
  {
   "cell_type": "markdown",
   "id": "00737c9b-3e8c-4010-9ffa-b0663878cc84",
   "metadata": {},
   "source": [
    "# Superset, Subset & Disjoint"
   ]
  },
  {
   "cell_type": "code",
   "execution_count": 87,
   "id": "27730bb6-1957-496f-96ca-31068051644d",
   "metadata": {},
   "outputs": [],
   "source": [
    "a = {1,2,3,4,5,6,7,8}\n",
    "b = {4,5,6,7,8}\n",
    "c = {10,20,30}"
   ]
  },
  {
   "cell_type": "code",
   "execution_count": 88,
   "id": "7355ade0-263c-4ba4-86c0-1f23bae78de8",
   "metadata": {},
   "outputs": [
    {
     "data": {
      "text/plain": [
       "True"
      ]
     },
     "execution_count": 88,
     "metadata": {},
     "output_type": "execute_result"
    }
   ],
   "source": [
    "b.issubset(a) # Set b is said to be the subset of set a if all elements of b are elements of a"
   ]
  },
  {
   "cell_type": "code",
   "execution_count": 89,
   "id": "640a1273-9d35-4159-82e8-f4433a71e523",
   "metadata": {},
   "outputs": [
    {
     "data": {
      "text/plain": [
       "True"
      ]
     },
     "execution_count": 89,
     "metadata": {},
     "output_type": "execute_result"
    }
   ],
   "source": [
    "a.issuperset(b) # Set a is said to be the superset of set b if all elements of b are elements of set a "
   ]
  },
  {
   "cell_type": "code",
   "execution_count": 90,
   "id": "dfbc621a-5d5d-4fbe-b6d6-ae40684f915c",
   "metadata": {},
   "outputs": [
    {
     "data": {
      "text/plain": [
       "True"
      ]
     },
     "execution_count": 90,
     "metadata": {},
     "output_type": "execute_result"
    }
   ],
   "source": [
    "c.isdisjoint(a) # two sets are said to be disjoint sets if they have no common elements"
   ]
  },
  {
   "cell_type": "code",
   "execution_count": 91,
   "id": "27aa0b0b-454e-4e61-8c3b-875e7422ec71",
   "metadata": {},
   "outputs": [
    {
     "data": {
      "text/plain": [
       "False"
      ]
     },
     "execution_count": 91,
     "metadata": {},
     "output_type": "execute_result"
    }
   ],
   "source": [
    "b.isdisjoint(a)  # two sets are said to be disjoint sets if they have no common elements"
   ]
  },
  {
   "cell_type": "markdown",
   "id": "96bafe94-1fc3-4dd5-848f-4d76ef1cf585",
   "metadata": {},
   "source": [
    "# Othert Built in functions"
   ]
  },
  {
   "cell_type": "code",
   "execution_count": 92,
   "id": "2f341dab-9ec7-4d90-8dd7-63e3423da43a",
   "metadata": {},
   "outputs": [
    {
     "data": {
      "text/plain": [
       "{1, 2, 3, 4, 5, 6, 7, 8}"
      ]
     },
     "execution_count": 92,
     "metadata": {},
     "output_type": "execute_result"
    }
   ],
   "source": [
    "a"
   ]
  },
  {
   "cell_type": "code",
   "execution_count": 93,
   "id": "147f4c62-4a75-4c36-b394-fcc75eaa7660",
   "metadata": {},
   "outputs": [
    {
     "data": {
      "text/plain": [
       "36"
      ]
     },
     "execution_count": 93,
     "metadata": {},
     "output_type": "execute_result"
    }
   ],
   "source": [
    "sum(a)"
   ]
  },
  {
   "cell_type": "code",
   "execution_count": 94,
   "id": "a1baf32e-d635-457a-8856-6c6710e26bb0",
   "metadata": {},
   "outputs": [
    {
     "data": {
      "text/plain": [
       "8"
      ]
     },
     "execution_count": 94,
     "metadata": {},
     "output_type": "execute_result"
    }
   ],
   "source": [
    "max(a)"
   ]
  },
  {
   "cell_type": "code",
   "execution_count": 95,
   "id": "f5f44fa0-4dde-4277-b670-6b949180a485",
   "metadata": {},
   "outputs": [
    {
     "data": {
      "text/plain": [
       "1"
      ]
     },
     "execution_count": 95,
     "metadata": {},
     "output_type": "execute_result"
    }
   ],
   "source": [
    "min(a)"
   ]
  },
  {
   "cell_type": "code",
   "execution_count": 96,
   "id": "55ef92f0-bfbd-40d1-93cf-2d768d4546a3",
   "metadata": {},
   "outputs": [
    {
     "data": {
      "text/plain": [
       "8"
      ]
     },
     "execution_count": 96,
     "metadata": {},
     "output_type": "execute_result"
    }
   ],
   "source": [
    "len(a)"
   ]
  },
  {
   "cell_type": "code",
   "execution_count": 97,
   "id": "0d6f92c4-a60a-4886-b87a-9aa5083ba14b",
   "metadata": {},
   "outputs": [
    {
     "data": {
      "text/plain": [
       "[(0, 1), (1, 2), (2, 3), (3, 4), (4, 5), (5, 6), (6, 7), (7, 8)]"
      ]
     },
     "execution_count": 97,
     "metadata": {},
     "output_type": "execute_result"
    }
   ],
   "source": [
    "list(enumerate(a))"
   ]
  },
  {
   "cell_type": "code",
   "execution_count": 98,
   "id": "8cdf29ce-6615-4513-ba50-f218903d9f78",
   "metadata": {},
   "outputs": [
    {
     "data": {
      "text/plain": [
       "[8, 7, 6, 5, 4, 3, 2, 1]"
      ]
     },
     "execution_count": 98,
     "metadata": {},
     "output_type": "execute_result"
    }
   ],
   "source": [
    "d = sorted(a, reverse=True)\n",
    "d"
   ]
  },
  {
   "cell_type": "code",
   "execution_count": 99,
   "id": "5ea55995-56b2-4658-a16e-dd71bdc21e6c",
   "metadata": {},
   "outputs": [
    {
     "data": {
      "text/plain": [
       "[1, 2, 3, 4, 5, 6, 7, 8]"
      ]
     },
     "execution_count": 99,
     "metadata": {},
     "output_type": "execute_result"
    }
   ],
   "source": [
    "sorted(d)"
   ]
  },
  {
   "cell_type": "code",
   "execution_count": null,
   "id": "bcac126c-9695-4075-b2b8-6e2466ae7633",
   "metadata": {},
   "outputs": [],
   "source": []
  }
 ],
 "metadata": {
  "kernelspec": {
   "display_name": "Python 3 (ipykernel)",
   "language": "python",
   "name": "python3"
  },
  "language_info": {
   "codemirror_mode": {
    "name": "ipython",
    "version": 3
   },
   "file_extension": ".py",
   "mimetype": "text/x-python",
   "name": "python",
   "nbconvert_exporter": "python",
   "pygments_lexer": "ipython3",
   "version": "3.12.7"
  }
 },
 "nbformat": 4,
 "nbformat_minor": 5
}
