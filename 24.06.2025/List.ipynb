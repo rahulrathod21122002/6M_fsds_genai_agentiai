{
 "cells": [
  {
   "cell_type": "markdown",
   "id": "32cb9537-0867-4947-9d44-6781c3fd54d3",
   "metadata": {},
   "source": [
    "# List creation"
   ]
  },
  {
   "cell_type": "code",
   "execution_count": 1,
   "id": "63105fb5-16a7-4bc5-8ebb-8479d66bda57",
   "metadata": {},
   "outputs": [],
   "source": [
    "list1 = []"
   ]
  },
  {
   "cell_type": "code",
   "execution_count": 2,
   "id": "619ae1d2-8062-4a8e-b11a-34e0a6f01e29",
   "metadata": {},
   "outputs": [
    {
     "name": "stdout",
     "output_type": "stream",
     "text": [
      "<class 'list'>\n"
     ]
    }
   ],
   "source": [
    "print(type(list1))"
   ]
  },
  {
   "cell_type": "code",
   "execution_count": 3,
   "id": "fdd7a1c2-a74c-4aa7-acc1-36ee65a4e55f",
   "metadata": {},
   "outputs": [],
   "source": [
    "list2 = [10, 20, 30] # list of integer numbers"
   ]
  },
  {
   "cell_type": "code",
   "execution_count": 4,
   "id": "4fd1ce34-9530-464d-95f5-a38c4b32e64b",
   "metadata": {},
   "outputs": [],
   "source": [
    "list3 = [10.11, 20.22, 30.33] # list of float numbers"
   ]
  },
  {
   "cell_type": "code",
   "execution_count": 5,
   "id": "d498f572-6345-4e9e-bf43-7c782aad043e",
   "metadata": {},
   "outputs": [],
   "source": [
    "list4 =['one', 'two', 'three'] # list of strings"
   ]
  },
  {
   "cell_type": "code",
   "execution_count": 6,
   "id": "f368c118-2fca-4408-9126-381e48afb0bf",
   "metadata": {},
   "outputs": [],
   "source": [
    "list5 =['Nisarg', 25, [50, 100], [15, 30]] # Nested lists"
   ]
  },
  {
   "cell_type": "code",
   "execution_count": null,
   "id": "e34f4a75-0739-44a1-90c1-61d7183d58b0",
   "metadata": {},
   "outputs": [],
   "source": [
    "list6 = [50, 75.5, True, 'Vivek', 1+2j] # List of mixed data types"
   ]
  },
  {
   "cell_type": "code",
   "execution_count": 7,
   "id": "dc884c28-16f3-4c7a-92a7-aaa503864bc1",
   "metadata": {},
   "outputs": [],
   "source": [
    "list7 = ['Nisarg', 25, [50, 100], [15, 30], {'John', 'David'}]"
   ]
  },
  {
   "cell_type": "code",
   "execution_count": 8,
   "id": "d0b8ef2e-bb01-4d70-995a-1c9ae6fa3190",
   "metadata": {},
   "outputs": [
    {
     "data": {
      "text/plain": [
       "5"
      ]
     },
     "execution_count": 8,
     "metadata": {},
     "output_type": "execute_result"
    }
   ],
   "source": [
    "len(list7)"
   ]
  },
  {
   "cell_type": "markdown",
   "id": "0ea6a8fb-3642-4de0-bff9-01024c2665d3",
   "metadata": {},
   "source": [
    "# List Indexing"
   ]
  },
  {
   "cell_type": "code",
   "execution_count": 10,
   "id": "b18afd7a-27aa-4f6d-83dc-73d2b142a575",
   "metadata": {},
   "outputs": [
    {
     "data": {
      "text/plain": [
       "10"
      ]
     },
     "execution_count": 10,
     "metadata": {},
     "output_type": "execute_result"
    }
   ],
   "source": [
    "list2[0] # Retreive first element of the list "
   ]
  },
  {
   "cell_type": "code",
   "execution_count": 11,
   "id": "94b245fc-7253-4306-9ade-0075c379a87c",
   "metadata": {},
   "outputs": [
    {
     "data": {
      "text/plain": [
       "'one'"
      ]
     },
     "execution_count": 11,
     "metadata": {},
     "output_type": "execute_result"
    }
   ],
   "source": [
    "list4[0] # Retreive first element of the list "
   ]
  },
  {
   "cell_type": "code",
   "execution_count": 12,
   "id": "626a215a-8551-4d13-af40-d4faf8748f22",
   "metadata": {},
   "outputs": [
    {
     "data": {
      "text/plain": [
       "'o'"
      ]
     },
     "execution_count": 12,
     "metadata": {},
     "output_type": "execute_result"
    }
   ],
   "source": [
    "list4[0][0]  # Nested indexing - Access the first character of the first list element"
   ]
  },
  {
   "cell_type": "code",
   "execution_count": 13,
   "id": "ed7ca2a9-290d-4a8e-9f22-5e32644da57f",
   "metadata": {},
   "outputs": [
    {
     "data": {
      "text/plain": [
       "'three'"
      ]
     },
     "execution_count": 13,
     "metadata": {},
     "output_type": "execute_result"
    }
   ],
   "source": [
    "list4[-1] # Last element of list"
   ]
  },
  {
   "cell_type": "code",
   "execution_count": 14,
   "id": "dfa622f3-8978-4406-abdc-4192dd964e3b",
   "metadata": {},
   "outputs": [
    {
     "data": {
      "text/plain": [
       "[15, 30]"
      ]
     },
     "execution_count": 14,
     "metadata": {},
     "output_type": "execute_result"
    }
   ],
   "source": [
    "list5[-1] # Last item of list"
   ]
  },
  {
   "cell_type": "markdown",
   "id": "98253172-3c2e-4a45-bb5a-b88afad8864c",
   "metadata": {},
   "source": [
    "# List Slicing"
   ]
  },
  {
   "cell_type": "code",
   "execution_count": 17,
   "id": "b1b0796c-cd90-4411-bd98-d2a0e53a7585",
   "metadata": {},
   "outputs": [],
   "source": [
    "mylist = [10, 20, 30, 40, 50, 60, 70, 80]"
   ]
  },
  {
   "cell_type": "code",
   "execution_count": 18,
   "id": "775a1620-151a-4840-907a-082bca881a05",
   "metadata": {},
   "outputs": [
    {
     "data": {
      "text/plain": [
       "[10, 20, 30]"
      ]
     },
     "execution_count": 18,
     "metadata": {},
     "output_type": "execute_result"
    }
   ],
   "source": [
    "mylist[0:3] # Return all item from 0th t0 3rd index (n-1) n = 0, 1, 2, 3...\n",
    "            # Here n = 3 there for 3-1 = 2"
   ]
  },
  {
   "cell_type": "code",
   "execution_count": 19,
   "id": "2868d6b4-483b-47f6-af58-e1c53eb67cbc",
   "metadata": {},
   "outputs": [
    {
     "data": {
      "text/plain": [
       "[30, 40, 50]"
      ]
     },
     "execution_count": 19,
     "metadata": {},
     "output_type": "execute_result"
    }
   ],
   "source": [
    "mylist[2:5] # Return all item from 2nd to 5th index location \n",
    "            # excluding the item at index location 5"
   ]
  },
  {
   "cell_type": "code",
   "execution_count": 20,
   "id": "a7129bd7-b1b0-4049-9c1e-4ec55461f580",
   "metadata": {},
   "outputs": [
    {
     "data": {
      "text/plain": [
       "[10, 20, 30, 40, 50]"
      ]
     },
     "execution_count": 20,
     "metadata": {},
     "output_type": "execute_result"
    }
   ],
   "source": [
    "mylist[:5] # Return first five items"
   ]
  },
  {
   "cell_type": "code",
   "execution_count": 22,
   "id": "70dd40c6-cd66-4057-a639-d69de0eefe9a",
   "metadata": {},
   "outputs": [
    {
     "data": {
      "text/plain": [
       "[40, 50, 60, 70, 80]"
      ]
     },
     "execution_count": 22,
     "metadata": {},
     "output_type": "execute_result"
    }
   ],
   "source": [
    "mylist[-5:] # Return last first five items"
   ]
  },
  {
   "cell_type": "code",
   "execution_count": 23,
   "id": "9c442c33-5877-4318-8ff6-93a2474b62ba",
   "metadata": {},
   "outputs": [
    {
     "data": {
      "text/plain": [
       "80"
      ]
     },
     "execution_count": 23,
     "metadata": {},
     "output_type": "execute_result"
    }
   ],
   "source": [
    "mylist[-1] # return last item of list"
   ]
  },
  {
   "cell_type": "code",
   "execution_count": 24,
   "id": "41b46d0e-563e-440e-ad04-af8ebd6844bd",
   "metadata": {},
   "outputs": [
    {
     "data": {
      "text/plain": [
       "[10, 20, 30, 40, 50, 60, 70, 80]"
      ]
     },
     "execution_count": 24,
     "metadata": {},
     "output_type": "execute_result"
    }
   ],
   "source": [
    "mylist[:] #Return whole list"
   ]
  },
  {
   "cell_type": "markdown",
   "id": "ab920bb3-6674-4bf7-879f-a5073d20f82f",
   "metadata": {},
   "source": [
    "# Add, Remove & Change items"
   ]
  },
  {
   "cell_type": "code",
   "execution_count": 25,
   "id": "777f6cec-ad1b-4765-8451-86fa1bb08fb6",
   "metadata": {},
   "outputs": [
    {
     "data": {
      "text/plain": [
       "[10, 20, 30, 40, 50, 60, 70, 80]"
      ]
     },
     "execution_count": 25,
     "metadata": {},
     "output_type": "execute_result"
    }
   ],
   "source": [
    "mylist"
   ]
  },
  {
   "cell_type": "code",
   "execution_count": 29,
   "id": "444ebb21-ad2f-4552-af2d-6521bc08a0fd",
   "metadata": {},
   "outputs": [],
   "source": [
    "mylist.append(90) # Add an item to the end of list"
   ]
  },
  {
   "cell_type": "code",
   "execution_count": 32,
   "id": "fac7fb4c-bfab-46a6-acec-fe9fa733cd22",
   "metadata": {},
   "outputs": [
    {
     "data": {
      "text/plain": [
       "[10, 20, 30, 40, 50, 60, 70, 80, 90]"
      ]
     },
     "execution_count": 32,
     "metadata": {},
     "output_type": "execute_result"
    }
   ],
   "source": [
    "mylist"
   ]
  },
  {
   "cell_type": "code",
   "execution_count": 33,
   "id": "7e10e68b-dec1-413c-86c4-d4590bd460a0",
   "metadata": {},
   "outputs": [
    {
     "data": {
      "text/plain": [
       "[10, 20, 30, 40, 50, 60, 70, 80, 90, 10]"
      ]
     },
     "execution_count": 33,
     "metadata": {},
     "output_type": "execute_result"
    }
   ],
   "source": [
    "mylist.insert(9, 10) # Add item at index location 9\n",
    "mylist"
   ]
  },
  {
   "cell_type": "code",
   "execution_count": 34,
   "id": "dd46017b-68fc-4afb-9e57-650523291174",
   "metadata": {},
   "outputs": [
    {
     "data": {
      "text/plain": [
       "[10, 20, -20, 30, 40, 50, 60, 70, 80, 90, 10]"
      ]
     },
     "execution_count": 34,
     "metadata": {},
     "output_type": "execute_result"
    }
   ],
   "source": [
    "mylist.insert(2, -20) # Add item at index location 2\n",
    "mylist"
   ]
  },
  {
   "cell_type": "code",
   "execution_count": 35,
   "id": "8dc6c2f9-f9c3-4033-900d-6aa665c333ee",
   "metadata": {},
   "outputs": [
    {
     "data": {
      "text/plain": [
       "[10, 20, 30, 40, 50, 60, 70, 80, 90, 10]"
      ]
     },
     "execution_count": 35,
     "metadata": {},
     "output_type": "execute_result"
    }
   ],
   "source": [
    "mylist.remove(-20) # Remove item '-20'\n",
    "mylist"
   ]
  },
  {
   "cell_type": "code",
   "execution_count": 36,
   "id": "0a2ed451-9740-4894-8252-ca8871329ca4",
   "metadata": {},
   "outputs": [
    {
     "data": {
      "text/plain": [
       "[10, 20, 30, 40, 50, 60, 70, 80, 90]"
      ]
     },
     "execution_count": 36,
     "metadata": {},
     "output_type": "execute_result"
    }
   ],
   "source": [
    "mylist.pop() # Remove last item of the list\n",
    "mylist"
   ]
  },
  {
   "cell_type": "code",
   "execution_count": 37,
   "id": "3c8297f4-ca22-49f7-bf4e-04d9bad996a8",
   "metadata": {},
   "outputs": [
    {
     "data": {
      "text/plain": [
       "[10, 20, 30, 40, 50, 60, 70, 80]"
      ]
     },
     "execution_count": 37,
     "metadata": {},
     "output_type": "execute_result"
    }
   ],
   "source": [
    "mylist.pop(8) # remove item at index 8\n",
    "mylist"
   ]
  },
  {
   "cell_type": "code",
   "execution_count": 39,
   "id": "4fb6f0e3-ef5b-452e-97ce-8c8c61e1904e",
   "metadata": {},
   "outputs": [
    {
     "data": {
      "text/plain": [
       "[10, 20, 30, 40, 50, 60, 70]"
      ]
     },
     "execution_count": 39,
     "metadata": {},
     "output_type": "execute_result"
    }
   ],
   "source": [
    "del mylist[7] # remove item at index 7\n",
    "mylist"
   ]
  },
  {
   "cell_type": "code",
   "execution_count": 40,
   "id": "fcb9bfc0-a41c-4684-bad9-129c17a79ad0",
   "metadata": {},
   "outputs": [
    {
     "data": {
      "text/plain": [
       "['ten', 'twenty', 'thirty', 40, 50, 60, 70]"
      ]
     },
     "execution_count": 40,
     "metadata": {},
     "output_type": "execute_result"
    }
   ],
   "source": [
    "# Change value of the index\n",
    "mylist[0] = 'ten'\n",
    "mylist[1] = 'twenty'\n",
    "mylist[2] = 'thirty'\n",
    "mylist"
   ]
  },
  {
   "cell_type": "code",
   "execution_count": 41,
   "id": "81951e4e-5d0b-49ce-b2f5-2d2cc0e4ab28",
   "metadata": {},
   "outputs": [
    {
     "data": {
      "text/plain": [
       "[]"
      ]
     },
     "execution_count": 41,
     "metadata": {},
     "output_type": "execute_result"
    }
   ],
   "source": [
    "mylist.clear() # Empty list / Delete all item in the list\n",
    "mylist"
   ]
  },
  {
   "cell_type": "code",
   "execution_count": 42,
   "id": "8215d525-fe07-4fce-8b11-2d7caf61b46f",
   "metadata": {},
   "outputs": [
    {
     "ename": "NameError",
     "evalue": "name 'mylist' is not defined",
     "output_type": "error",
     "traceback": [
      "\u001b[1;31m---------------------------------------------------------------------------\u001b[0m",
      "\u001b[1;31mNameError\u001b[0m                                 Traceback (most recent call last)",
      "Cell \u001b[1;32mIn[42], line 2\u001b[0m\n\u001b[0;32m      1\u001b[0m \u001b[38;5;28;01mdel\u001b[39;00m mylist \u001b[38;5;66;03m# Delete the whole list\u001b[39;00m\n\u001b[1;32m----> 2\u001b[0m mylist\n",
      "\u001b[1;31mNameError\u001b[0m: name 'mylist' is not defined"
     ]
    }
   ],
   "source": [
    "del mylist # Delete the whole list\n",
    "mylist"
   ]
  },
  {
   "cell_type": "markdown",
   "id": "01d113b3-ee0e-4362-bd99-a62976c91d7e",
   "metadata": {},
   "source": [
    "# Copy list"
   ]
  },
  {
   "cell_type": "code",
   "execution_count": 43,
   "id": "8e617228-795b-435f-b1d7-7c2ea94d5b1a",
   "metadata": {},
   "outputs": [],
   "source": [
    "mylist = [1,2,3,4,5,6,7,8,9,10]"
   ]
  },
  {
   "cell_type": "code",
   "execution_count": 44,
   "id": "7e50732d-a645-4a4b-a65d-efbd06836be1",
   "metadata": {},
   "outputs": [],
   "source": [
    "mylist1 = mylist"
   ]
  },
  {
   "cell_type": "code",
   "execution_count": 45,
   "id": "4d9175d3-304e-4f44-aa47-21a67604dab6",
   "metadata": {},
   "outputs": [
    {
     "data": {
      "text/plain": [
       "(2064375401984, 2064375401984)"
      ]
     },
     "execution_count": 45,
     "metadata": {},
     "output_type": "execute_result"
    }
   ],
   "source": [
    "id(mylist), id(mylist1) # The add. of mylist & mylist1 will be same"
   ]
  },
  {
   "cell_type": "code",
   "execution_count": 46,
   "id": "7044bc72-6a58-446b-83cf-8cc1fdf6f1b4",
   "metadata": {},
   "outputs": [],
   "source": [
    "mylist2 = mylist.copy()"
   ]
  },
  {
   "cell_type": "code",
   "execution_count": 47,
   "id": "7ff409fe-3646-443b-8bb5-1e42e06b9dab",
   "metadata": {},
   "outputs": [
    {
     "data": {
      "text/plain": [
       "2064375428928"
      ]
     },
     "execution_count": 47,
     "metadata": {},
     "output_type": "execute_result"
    }
   ],
   "source": [
    "id(mylist2) # the add. of mylist2 will be different from mylist "
   ]
  },
  {
   "cell_type": "code",
   "execution_count": 49,
   "id": "25992cca-12ec-4f63-acd5-eae1fab06e03",
   "metadata": {},
   "outputs": [],
   "source": [
    "mylist[0] = 'one'"
   ]
  },
  {
   "cell_type": "code",
   "execution_count": 50,
   "id": "ca69520a-c629-4d20-bcf6-ede2fc6cb75a",
   "metadata": {},
   "outputs": [
    {
     "data": {
      "text/plain": [
       "['one', 2, 3, 4, 5, 6, 7, 8, 9, 10]"
      ]
     },
     "execution_count": 50,
     "metadata": {},
     "output_type": "execute_result"
    }
   ],
   "source": [
    "mylist"
   ]
  },
  {
   "cell_type": "code",
   "execution_count": 51,
   "id": "eda343ca-73d5-4a1a-9a1e-2831ff6e0de3",
   "metadata": {},
   "outputs": [
    {
     "data": {
      "text/plain": [
       "['one', 2, 3, 4, 5, 6, 7, 8, 9, 10]"
      ]
     },
     "execution_count": 51,
     "metadata": {},
     "output_type": "execute_result"
    }
   ],
   "source": [
    "mylist1 # because mylist and mylist1 has same id"
   ]
  },
  {
   "cell_type": "code",
   "execution_count": 52,
   "id": "36bcf9e1-8e1e-43f0-b699-7f6fecf5447c",
   "metadata": {},
   "outputs": [
    {
     "data": {
      "text/plain": [
       "[1, 2, 3, 4, 5, 6, 7, 8, 9, 10]"
      ]
     },
     "execution_count": 52,
     "metadata": {},
     "output_type": "execute_result"
    }
   ],
   "source": [
    "mylist2 # diff. id"
   ]
  },
  {
   "cell_type": "markdown",
   "id": "8e28c36a-18cf-4f7c-bc0d-be840a163021",
   "metadata": {},
   "source": [
    "# Join Lists"
   ]
  },
  {
   "cell_type": "code",
   "execution_count": 53,
   "id": "f8f4b206-997d-45fc-aa1f-11d90fc18286",
   "metadata": {},
   "outputs": [],
   "source": [
    "list1 = [1,2,3,4]\n",
    "list2 = [5,6,7,8]"
   ]
  },
  {
   "cell_type": "code",
   "execution_count": 54,
   "id": "2ae39f5e-1cbf-4089-a0b1-3cf0cd79d6f1",
   "metadata": {},
   "outputs": [],
   "source": [
    "list3 = list1 + list2 # Join two lists by '+' operator"
   ]
  },
  {
   "cell_type": "code",
   "execution_count": 55,
   "id": "16a8f4c7-6196-4814-8038-669e8918a585",
   "metadata": {},
   "outputs": [
    {
     "data": {
      "text/plain": [
       "[1, 2, 3, 4, 5, 6, 7, 8]"
      ]
     },
     "execution_count": 55,
     "metadata": {},
     "output_type": "execute_result"
    }
   ],
   "source": [
    "list3"
   ]
  },
  {
   "cell_type": "code",
   "execution_count": 56,
   "id": "b1d46adf-a2b5-48ad-95af-0addbd9441b2",
   "metadata": {},
   "outputs": [
    {
     "data": {
      "text/plain": [
       "[1, 2, 3, 4, 5, 6, 7, 8]"
      ]
     },
     "execution_count": 56,
     "metadata": {},
     "output_type": "execute_result"
    }
   ],
   "source": [
    "list1.extend(list2) # Append list2 with list1\n",
    "list1"
   ]
  },
  {
   "cell_type": "markdown",
   "id": "1f07c28e-d272-4c40-b8f7-cf558b3ce4b0",
   "metadata": {},
   "source": [
    "# List Membership"
   ]
  },
  {
   "cell_type": "code",
   "execution_count": 57,
   "id": "76d7fc58-35b3-4180-9008-3ca64e7d96d6",
   "metadata": {},
   "outputs": [
    {
     "data": {
      "text/plain": [
       "[1, 2, 3, 4, 5, 6, 7, 8]"
      ]
     },
     "execution_count": 57,
     "metadata": {},
     "output_type": "execute_result"
    }
   ],
   "source": [
    "list1"
   ]
  },
  {
   "cell_type": "code",
   "execution_count": 58,
   "id": "20c8f4e9-8864-49d5-a9c0-0433e385515b",
   "metadata": {},
   "outputs": [
    {
     "data": {
      "text/plain": [
       "True"
      ]
     },
     "execution_count": 58,
     "metadata": {},
     "output_type": "execute_result"
    }
   ],
   "source": [
    "1 in list1"
   ]
  },
  {
   "cell_type": "code",
   "execution_count": 59,
   "id": "1162b9af-8d37-43fa-85f0-d03f9083a3ef",
   "metadata": {},
   "outputs": [
    {
     "data": {
      "text/plain": [
       "False"
      ]
     },
     "execution_count": 59,
     "metadata": {},
     "output_type": "execute_result"
    }
   ],
   "source": [
    "10 in list1"
   ]
  },
  {
   "cell_type": "code",
   "execution_count": 60,
   "id": "99d4894d-06f8-4203-9cc1-6011427164d8",
   "metadata": {},
   "outputs": [
    {
     "name": "stdout",
     "output_type": "stream",
     "text": [
      "3 is present in list1\n"
     ]
    }
   ],
   "source": [
    "if 3 in list1:\n",
    "    print(\"3 is present in list1\")\n",
    "else:\n",
    "    print(\"3 is not present in list1\")"
   ]
  },
  {
   "cell_type": "code",
   "execution_count": 61,
   "id": "1c51634c-aba6-4901-b854-ec15fca56d69",
   "metadata": {},
   "outputs": [
    {
     "name": "stdout",
     "output_type": "stream",
     "text": [
      "10 is not present in list1\n"
     ]
    }
   ],
   "source": [
    "if 10 in list1:\n",
    "    print(\"10 is present in list1\")\n",
    "else:\n",
    "    print(\"10 is not present in list1\")"
   ]
  },
  {
   "cell_type": "markdown",
   "id": "3d7e8945-6968-4bf3-b350-caedab98e771",
   "metadata": {},
   "source": [
    "# Reverse & Sort list"
   ]
  },
  {
   "cell_type": "code",
   "execution_count": 62,
   "id": "f9b5f9b3-1795-4955-a7cf-2d7d2b3ee146",
   "metadata": {},
   "outputs": [
    {
     "data": {
      "text/plain": [
       "[1, 2, 3, 4, 5, 6, 7, 8]"
      ]
     },
     "execution_count": 62,
     "metadata": {},
     "output_type": "execute_result"
    }
   ],
   "source": [
    "list1"
   ]
  },
  {
   "cell_type": "code",
   "execution_count": 63,
   "id": "708b4124-c5a3-4ce4-9a8d-34724c09d577",
   "metadata": {},
   "outputs": [
    {
     "data": {
      "text/plain": [
       "[8, 7, 6, 5, 4, 3, 2, 1]"
      ]
     },
     "execution_count": 63,
     "metadata": {},
     "output_type": "execute_result"
    }
   ],
   "source": [
    "list1.reverse() # Reverse the list\n",
    "list1"
   ]
  },
  {
   "cell_type": "code",
   "execution_count": 70,
   "id": "c92dfdea-1d22-4463-b22b-8033e729115e",
   "metadata": {},
   "outputs": [
    {
     "data": {
      "text/plain": [
       "[1, 2, 3, 4, 5, 6, 7, 8]"
      ]
     },
     "execution_count": 70,
     "metadata": {},
     "output_type": "execute_result"
    }
   ],
   "source": [
    "list1[::-1]"
   ]
  },
  {
   "cell_type": "code",
   "execution_count": 72,
   "id": "97f725f2-9a83-4ace-9932-ed7f1910c6c6",
   "metadata": {},
   "outputs": [
    {
     "data": {
      "text/plain": [
       "[1, 2, 3, 4, 5, 6, 7, 8]"
      ]
     },
     "execution_count": 72,
     "metadata": {},
     "output_type": "execute_result"
    }
   ],
   "source": [
    "mylist3 = [3,2,4,1,7,5,8,6]\n",
    "mylist3.sort() # Sort list in ascending order\n",
    "mylist3"
   ]
  },
  {
   "cell_type": "code",
   "execution_count": 73,
   "id": "6d45166e-38d7-4860-8a06-038ee9ffa967",
   "metadata": {},
   "outputs": [
    {
     "data": {
      "text/plain": [
       "[8, 7, 6, 5, 4, 3, 2, 1]"
      ]
     },
     "execution_count": 73,
     "metadata": {},
     "output_type": "execute_result"
    }
   ],
   "source": [
    "mylist3 = [3,2,4,1,7,5,8,6]\n",
    "mylist3.sort(reverse=True) # Sort list in descending order\n",
    "mylist3"
   ]
  },
  {
   "cell_type": "code",
   "execution_count": 74,
   "id": "cf84d624-7ae7-42b1-a97e-1a42fd18f602",
   "metadata": {},
   "outputs": [
    {
     "data": {
      "text/plain": [
       "[6, 11, 32, 34, 80, 567]"
      ]
     },
     "execution_count": 74,
     "metadata": {},
     "output_type": "execute_result"
    }
   ],
   "source": [
    "mylist4 = [11,32,6,567,34,80]\n",
    "sorted(mylist4) # Returns a new sorted list and dosen't change original list"
   ]
  },
  {
   "cell_type": "code",
   "execution_count": 75,
   "id": "8216c3f2-dcb7-4115-bcdf-aa1e42bee79d",
   "metadata": {},
   "outputs": [
    {
     "data": {
      "text/plain": [
       "[11, 32, 6, 567, 34, 80]"
      ]
     },
     "execution_count": 75,
     "metadata": {},
     "output_type": "execute_result"
    }
   ],
   "source": [
    "mylist4"
   ]
  },
  {
   "cell_type": "markdown",
   "id": "f8492a60-7709-49e7-af59-c0fef01a9833",
   "metadata": {},
   "source": [
    "# Loop Through a List"
   ]
  },
  {
   "cell_type": "code",
   "execution_count": 76,
   "id": "2546e7e6-016f-4508-a756-91f70e75de9a",
   "metadata": {},
   "outputs": [
    {
     "data": {
      "text/plain": [
       "[8, 7, 6, 5, 4, 3, 2, 1]"
      ]
     },
     "execution_count": 76,
     "metadata": {},
     "output_type": "execute_result"
    }
   ],
   "source": [
    "list1"
   ]
  },
  {
   "cell_type": "code",
   "execution_count": 77,
   "id": "4d57e7e0-f7f8-4fcb-99e0-92c6d7d4c481",
   "metadata": {},
   "outputs": [
    {
     "name": "stdout",
     "output_type": "stream",
     "text": [
      "8\n",
      "7\n",
      "6\n",
      "5\n",
      "4\n",
      "3\n",
      "2\n",
      "1\n"
     ]
    }
   ],
   "source": [
    "for i in list1:\n",
    "    print(i)"
   ]
  },
  {
   "cell_type": "code",
   "execution_count": 78,
   "id": "0382ed6a-c871-4b61-8ed5-a9d2c9087635",
   "metadata": {},
   "outputs": [
    {
     "name": "stdout",
     "output_type": "stream",
     "text": [
      "(0, 8)\n",
      "(1, 7)\n",
      "(2, 6)\n",
      "(3, 5)\n",
      "(4, 4)\n",
      "(5, 3)\n",
      "(6, 2)\n",
      "(7, 1)\n"
     ]
    }
   ],
   "source": [
    "for i in enumerate(list1):\n",
    "    print(i)"
   ]
  },
  {
   "cell_type": "markdown",
   "id": "a04dcb28-9b7a-4a6e-b154-2c53f30f0e0b",
   "metadata": {},
   "source": [
    "# Count"
   ]
  },
  {
   "cell_type": "code",
   "execution_count": 79,
   "id": "c89e6eaa-aa00-4e42-b396-7402b0462022",
   "metadata": {},
   "outputs": [
    {
     "data": {
      "text/plain": [
       "[1, 2, 3, 1, 4, 2, 4, 5, 5, 7, 4, 8, 4]"
      ]
     },
     "execution_count": 79,
     "metadata": {},
     "output_type": "execute_result"
    }
   ],
   "source": [
    "mylist5 = [1,2,3,1,4,2,4,5,5,7,4,8,4]\n",
    "mylist5"
   ]
  },
  {
   "cell_type": "code",
   "execution_count": 80,
   "id": "35024a43-9b1f-4feb-8dd0-cddf077b0475",
   "metadata": {},
   "outputs": [
    {
     "data": {
      "text/plain": [
       "4"
      ]
     },
     "execution_count": 80,
     "metadata": {},
     "output_type": "execute_result"
    }
   ],
   "source": [
    "mylist5.count(4) # Number of times item 4 ocurred in the list"
   ]
  },
  {
   "cell_type": "code",
   "execution_count": 81,
   "id": "dd2437db-ee19-45e0-ba43-7f54bb25b48c",
   "metadata": {},
   "outputs": [
    {
     "data": {
      "text/plain": [
       "2"
      ]
     },
     "execution_count": 81,
     "metadata": {},
     "output_type": "execute_result"
    }
   ],
   "source": [
    "mylist5.count(1)"
   ]
  },
  {
   "cell_type": "code",
   "execution_count": 82,
   "id": "2d162111-9a14-4c42-912b-0de793817492",
   "metadata": {},
   "outputs": [
    {
     "data": {
      "text/plain": [
       "0"
      ]
     },
     "execution_count": 82,
     "metadata": {},
     "output_type": "execute_result"
    }
   ],
   "source": [
    "mylist5.count(10)"
   ]
  },
  {
   "cell_type": "code",
   "execution_count": 84,
   "id": "18e40252-0696-4140-b35a-bc9468399c12",
   "metadata": {},
   "outputs": [
    {
     "data": {
      "text/plain": [
       "1"
      ]
     },
     "execution_count": 84,
     "metadata": {},
     "output_type": "execute_result"
    }
   ],
   "source": [
    "mylist5.count(8)"
   ]
  },
  {
   "cell_type": "markdown",
   "id": "bebd18d9-1a71-4a35-b6e9-cb791d0fb185",
   "metadata": {},
   "source": [
    "# All / Any"
   ]
  },
  {
   "cell_type": "code",
   "execution_count": 85,
   "id": "67f85047-7f22-4644-9c5b-328f31c60632",
   "metadata": {},
   "outputs": [],
   "source": [
    "L1 = [1,2,3,4,0]"
   ]
  },
  {
   "cell_type": "code",
   "execution_count": 86,
   "id": "7e11e338-5af6-4ac0-91a6-a436e4e0dc00",
   "metadata": {},
   "outputs": [
    {
     "data": {
      "text/plain": [
       "False"
      ]
     },
     "execution_count": 86,
     "metadata": {},
     "output_type": "execute_result"
    }
   ],
   "source": [
    "all(L1) # Will return false as one value is false (Value 0)"
   ]
  },
  {
   "cell_type": "code",
   "execution_count": 87,
   "id": "72da67e2-9143-4068-970f-6e44a2f7888c",
   "metadata": {},
   "outputs": [
    {
     "data": {
      "text/plain": [
       "True"
      ]
     },
     "execution_count": 87,
     "metadata": {},
     "output_type": "execute_result"
    }
   ],
   "source": [
    "any(L1) # Will return True as we have items in the list with True value"
   ]
  },
  {
   "cell_type": "code",
   "execution_count": 88,
   "id": "ac384054-b0f4-4534-ab19-4e2e68095992",
   "metadata": {},
   "outputs": [],
   "source": [
    "L2 = [1,2,3,4,True, False]"
   ]
  },
  {
   "cell_type": "code",
   "execution_count": 89,
   "id": "f344df8e-abf2-4949-a252-86d808a648bc",
   "metadata": {},
   "outputs": [
    {
     "data": {
      "text/plain": [
       "False"
      ]
     },
     "execution_count": 89,
     "metadata": {},
     "output_type": "execute_result"
    }
   ],
   "source": [
    "all(L2) # Will return false as one value is false "
   ]
  },
  {
   "cell_type": "code",
   "execution_count": 90,
   "id": "6874e3df-8897-4594-88cd-c605ac7f7fef",
   "metadata": {},
   "outputs": [
    {
     "data": {
      "text/plain": [
       "True"
      ]
     },
     "execution_count": 90,
     "metadata": {},
     "output_type": "execute_result"
    }
   ],
   "source": [
    "any(L2) # Will Return True as we have items in the list with True value "
   ]
  },
  {
   "cell_type": "code",
   "execution_count": 91,
   "id": "bbb6ec13-b447-4353-b09e-5e9b2bd02e4d",
   "metadata": {},
   "outputs": [],
   "source": [
    "L3 = [1,2,3,True]"
   ]
  },
  {
   "cell_type": "code",
   "execution_count": 92,
   "id": "e779a023-8831-4e77-9a13-3fa7a7eaa098",
   "metadata": {},
   "outputs": [
    {
     "data": {
      "text/plain": [
       "True"
      ]
     },
     "execution_count": 92,
     "metadata": {},
     "output_type": "execute_result"
    }
   ],
   "source": [
    "all(L3) # Will return True as all items in the list are True "
   ]
  },
  {
   "cell_type": "code",
   "execution_count": null,
   "id": "0ce5595c-8134-4776-99e8-57615a1d4e09",
   "metadata": {},
   "outputs": [],
   "source": []
  }
 ],
 "metadata": {
  "kernelspec": {
   "display_name": "Python 3 (ipykernel)",
   "language": "python",
   "name": "python3"
  },
  "language_info": {
   "codemirror_mode": {
    "name": "ipython",
    "version": 3
   },
   "file_extension": ".py",
   "mimetype": "text/x-python",
   "name": "python",
   "nbconvert_exporter": "python",
   "pygments_lexer": "ipython3",
   "version": "3.12.7"
  }
 },
 "nbformat": 4,
 "nbformat_minor": 5
}
