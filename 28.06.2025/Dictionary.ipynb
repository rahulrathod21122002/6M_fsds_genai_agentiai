{
 "cells": [
  {
   "cell_type": "markdown",
   "id": "634b7ae8-3393-4bc3-b784-69017c509666",
   "metadata": {},
   "source": [
    "# Create Dictionary"
   ]
  },
  {
   "cell_type": "code",
   "execution_count": 3,
   "id": "6be84cf1-d42b-4b95-a017-459d5bd22434",
   "metadata": {},
   "outputs": [
    {
     "data": {
      "text/plain": [
       "{}"
      ]
     },
     "execution_count": 3,
     "metadata": {},
     "output_type": "execute_result"
    }
   ],
   "source": [
    "mydict = dict() # Empty dictionary\n",
    "mydict"
   ]
  },
  {
   "cell_type": "code",
   "execution_count": 4,
   "id": "20b821fd-487f-4afa-b76c-10b83b54c9b5",
   "metadata": {},
   "outputs": [
    {
     "data": {
      "text/plain": [
       "{}"
      ]
     },
     "execution_count": 4,
     "metadata": {},
     "output_type": "execute_result"
    }
   ],
   "source": [
    "mydict = {} # Empty dictionary\n",
    "mydict"
   ]
  },
  {
   "cell_type": "code",
   "execution_count": 5,
   "id": "76d15745-f409-46d0-b768-7aa7010029f6",
   "metadata": {},
   "outputs": [
    {
     "data": {
      "text/plain": [
       "dict"
      ]
     },
     "execution_count": 5,
     "metadata": {},
     "output_type": "execute_result"
    }
   ],
   "source": [
    "type(mydict)"
   ]
  },
  {
   "cell_type": "code",
   "execution_count": 6,
   "id": "5086c49d-6022-45a8-a375-d10210fca6a8",
   "metadata": {},
   "outputs": [
    {
     "data": {
      "text/plain": [
       "{1: 'one', 2: 'two', 3: 'three'}"
      ]
     },
     "execution_count": 6,
     "metadata": {},
     "output_type": "execute_result"
    }
   ],
   "source": [
    "mydict = {1:'one', 2:'two', 3:'three'} # Dictionary with intger keys\n",
    "mydict"
   ]
  },
  {
   "cell_type": "code",
   "execution_count": 7,
   "id": "c0aa935a-558c-4723-9ddf-21e5039e25d9",
   "metadata": {},
   "outputs": [
    {
     "data": {
      "text/plain": [
       "{1: 'one', 2: 'two', 3: 'three'}"
      ]
     },
     "execution_count": 7,
     "metadata": {},
     "output_type": "execute_result"
    }
   ],
   "source": [
    "mydict = dict({1:'one', 2:'two', 3:'three'}) # Create dictionary using dict()\n",
    "mydict"
   ]
  },
  {
   "cell_type": "code",
   "execution_count": 8,
   "id": "66c7aca0-36d7-4199-98fb-e01f2b726ebf",
   "metadata": {},
   "outputs": [
    {
     "data": {
      "text/plain": [
       "{'A': 'one', 'B': 'two', 'C': 'three'}"
      ]
     },
     "execution_count": 8,
     "metadata": {},
     "output_type": "execute_result"
    }
   ],
   "source": [
    "mydict = {'A':'one', 'B':'two', 'C':'three'} # Dictionary with character keys\n",
    "mydict"
   ]
  },
  {
   "cell_type": "code",
   "execution_count": 9,
   "id": "4e617575-aa5d-4f74-bd2b-8d8c65f79aca",
   "metadata": {},
   "outputs": [
    {
     "data": {
      "text/plain": [
       "{1: 'one', 'A': 'two', 3: 'three'}"
      ]
     },
     "execution_count": 9,
     "metadata": {},
     "output_type": "execute_result"
    }
   ],
   "source": [
    "mydict = {1:'one', 'A':'two', 3:'three'} # Dictionary with mixed keys\n",
    "mydict"
   ]
  },
  {
   "cell_type": "code",
   "execution_count": 10,
   "id": "be618232-3dd3-4340-8108-d5dbe43d0a7b",
   "metadata": {},
   "outputs": [
    {
     "data": {
      "text/plain": [
       "dict_keys([1, 'A', 3])"
      ]
     },
     "execution_count": 10,
     "metadata": {},
     "output_type": "execute_result"
    }
   ],
   "source": [
    "mydict.keys() # Return Dictionary keys using keys() method"
   ]
  },
  {
   "cell_type": "code",
   "execution_count": 11,
   "id": "df27321b-9035-4841-b7c4-95541bce5b16",
   "metadata": {},
   "outputs": [
    {
     "data": {
      "text/plain": [
       "dict_values(['one', 'two', 'three'])"
      ]
     },
     "execution_count": 11,
     "metadata": {},
     "output_type": "execute_result"
    }
   ],
   "source": [
    "mydict.values() # Return Dictionary values using values() method"
   ]
  },
  {
   "cell_type": "code",
   "execution_count": 12,
   "id": "c9789813-f8b0-413b-aaac-7c92db876601",
   "metadata": {},
   "outputs": [
    {
     "data": {
      "text/plain": [
       "dict_items([(1, 'one'), ('A', 'two'), (3, 'three')])"
      ]
     },
     "execution_count": 12,
     "metadata": {},
     "output_type": "execute_result"
    }
   ],
   "source": [
    "mydict.items() # Access each key- alue pair within dictionary"
   ]
  },
  {
   "cell_type": "code",
   "execution_count": 13,
   "id": "32039032-1cc1-474b-98c0-c13ba3335ae9",
   "metadata": {},
   "outputs": [
    {
     "data": {
      "text/plain": [
       "{1: 'one', 2: 'two', 3: 'three', 'A': [1, 2, 'ram']}"
      ]
     },
     "execution_count": 13,
     "metadata": {},
     "output_type": "execute_result"
    }
   ],
   "source": [
    "mydict = {1:'one', 2:'two', 3:'three', 'A':[1,2,'ram']}\n",
    "mydict"
   ]
  },
  {
   "cell_type": "code",
   "execution_count": 14,
   "id": "5f8aea2e-4d20-48c2-977a-03141ef898c1",
   "metadata": {},
   "outputs": [
    {
     "data": {
      "text/plain": [
       "{1: 'one',\n",
       " 2: 'two',\n",
       " 'A': {'Name': 'Rahul', 'Age': 23},\n",
       " 'B': ('karn', 'arjun', 'bheem')}"
      ]
     },
     "execution_count": 14,
     "metadata": {},
     "output_type": "execute_result"
    }
   ],
   "source": [
    "mydict = {1:'one', 2:'two', 'A':{'Name':'Rahul', 'Age':23}, 'B':('karn','arjun','bheem')}\n",
    "mydict"
   ]
  },
  {
   "cell_type": "code",
   "execution_count": 15,
   "id": "c59d5801-ae2d-4040-9691-0426fbb66a73",
   "metadata": {},
   "outputs": [
    {
     "data": {
      "text/plain": [
       "{'c': None, 'a': None, 'd': None, 'b': None}"
      ]
     },
     "execution_count": 15,
     "metadata": {},
     "output_type": "execute_result"
    }
   ],
   "source": [
    "keys = {'a', 'b', 'c', 'd'}\n",
    "mydict1 = dict.fromkeys(keys) # Create a dictionary from sequence of keys\n",
    "mydict1"
   ]
  },
  {
   "cell_type": "code",
   "execution_count": 16,
   "id": "60c1e437-58e2-45f8-bb87-f057a4337734",
   "metadata": {},
   "outputs": [
    {
     "data": {
      "text/plain": [
       "{'c': 10, 'a': 10, 'd': 10, 'b': 10}"
      ]
     },
     "execution_count": 16,
     "metadata": {},
     "output_type": "execute_result"
    }
   ],
   "source": [
    "keys = {'a', 'b', 'c', 'd'}\n",
    "value = 10\n",
    "mydict1 = dict.fromkeys(keys, value)\n",
    "mydict1"
   ]
  },
  {
   "cell_type": "code",
   "execution_count": 17,
   "id": "3734816c-b8e1-49b7-ab36-9b31a4602129",
   "metadata": {},
   "outputs": [
    {
     "data": {
      "text/plain": [
       "{'c': [10, 20, 30], 'a': [10, 20, 30], 'd': [10, 20, 30], 'b': [10, 20, 30]}"
      ]
     },
     "execution_count": 17,
     "metadata": {},
     "output_type": "execute_result"
    }
   ],
   "source": [
    "kyes = {'a', 'b', 'c', 'd'}\n",
    "values = [10,20,30]\n",
    "mydict1 = dict.fromkeys(keys, values)\n",
    "mydict1"
   ]
  },
  {
   "cell_type": "code",
   "execution_count": 18,
   "id": "02dbdf03-b4cb-4aa1-8e06-e6c9ab71725e",
   "metadata": {},
   "outputs": [
    {
     "data": {
      "text/plain": [
       "{'c': [10, 20, 30, 40],\n",
       " 'a': [10, 20, 30, 40],\n",
       " 'd': [10, 20, 30, 40],\n",
       " 'b': [10, 20, 30, 40]}"
      ]
     },
     "execution_count": 18,
     "metadata": {},
     "output_type": "execute_result"
    }
   ],
   "source": [
    "values.append(40)\n",
    "mydict1"
   ]
  },
  {
   "cell_type": "markdown",
   "id": "4cb006af-bbb8-483d-a3cc-950fd46b4f4c",
   "metadata": {},
   "source": [
    "# Accessing Items"
   ]
  },
  {
   "cell_type": "code",
   "execution_count": 19,
   "id": "78c4940a-0bc6-48b7-9eea-e34d36bd351b",
   "metadata": {},
   "outputs": [
    {
     "data": {
      "text/plain": [
       "{1: 'one', 2: 'two', 3: 'three', 4: 'four', 5: 'five'}"
      ]
     },
     "execution_count": 19,
     "metadata": {},
     "output_type": "execute_result"
    }
   ],
   "source": [
    "mydict = {1:'one', 2:'two', 3:'three', 4:'four', 5:'five'}\n",
    "mydict"
   ]
  },
  {
   "cell_type": "code",
   "execution_count": 20,
   "id": "7dd7d912-53ff-48d6-9e87-55d5f35cba9a",
   "metadata": {},
   "outputs": [
    {
     "data": {
      "text/plain": [
       "'one'"
      ]
     },
     "execution_count": 20,
     "metadata": {},
     "output_type": "execute_result"
    }
   ],
   "source": [
    "mydict[1] # Accessing item using key"
   ]
  },
  {
   "cell_type": "code",
   "execution_count": 21,
   "id": "c228ecd6-8183-4e8e-a5c6-100cf1402b88",
   "metadata": {},
   "outputs": [
    {
     "data": {
      "text/plain": [
       "'one'"
      ]
     },
     "execution_count": 21,
     "metadata": {},
     "output_type": "execute_result"
    }
   ],
   "source": [
    "mydict.get(1) # Accessing item using get() method"
   ]
  },
  {
   "cell_type": "code",
   "execution_count": 22,
   "id": "f63d6726-4341-4d08-acad-0a3629347c9f",
   "metadata": {},
   "outputs": [
    {
     "data": {
      "text/plain": [
       "{'Name': 'Ram', 'ID': 3751, 'DOB': 2002, 'Job': 'Artist'}"
      ]
     },
     "execution_count": 22,
     "metadata": {},
     "output_type": "execute_result"
    }
   ],
   "source": [
    "mydict1 = {'Name':'Ram', 'ID': 3751, 'DOB': 2002, 'Job':'Artist'}\n",
    "mydict1"
   ]
  },
  {
   "cell_type": "code",
   "execution_count": 23,
   "id": "557ef2fe-ece8-40ad-9404-db6ffdd7ccf6",
   "metadata": {},
   "outputs": [
    {
     "data": {
      "text/plain": [
       "'Ram'"
      ]
     },
     "execution_count": 23,
     "metadata": {},
     "output_type": "execute_result"
    }
   ],
   "source": [
    "mydict1['Name']"
   ]
  },
  {
   "cell_type": "code",
   "execution_count": 24,
   "id": "c08e2f3e-d052-466f-bde6-91676d7b9b5d",
   "metadata": {},
   "outputs": [
    {
     "data": {
      "text/plain": [
       "2002"
      ]
     },
     "execution_count": 24,
     "metadata": {},
     "output_type": "execute_result"
    }
   ],
   "source": [
    "mydict1['DOB']"
   ]
  },
  {
   "cell_type": "markdown",
   "id": "c89f8cb4-df42-41b5-9024-d5cea7feac1d",
   "metadata": {},
   "source": [
    "# Add, Remove and Change Items"
   ]
  },
  {
   "cell_type": "code",
   "execution_count": 25,
   "id": "33f54e20-21a0-4b05-bf4e-dbfdbe80410d",
   "metadata": {},
   "outputs": [
    {
     "data": {
      "text/plain": [
       "{'Name': 'Ram', 'ID': 3751, 'DOB': 2002, 'Job': 'Artist'}"
      ]
     },
     "execution_count": 25,
     "metadata": {},
     "output_type": "execute_result"
    }
   ],
   "source": [
    "mydict1 = {'Name':'Ram', 'ID': 3751, 'DOB': 2002, 'Job':'Artist'}\n",
    "mydict1"
   ]
  },
  {
   "cell_type": "code",
   "execution_count": 26,
   "id": "aecfe957-4886-4e44-a3fb-b4c9efb3350a",
   "metadata": {},
   "outputs": [
    {
     "data": {
      "text/plain": [
       "{'Name': 'Ram', 'ID': 3751, 'DOB': 2003, 'Job': 'Singer'}"
      ]
     },
     "execution_count": 26,
     "metadata": {},
     "output_type": "execute_result"
    }
   ],
   "source": [
    "mydict1['DOB'] = 2003   # Changing Dictionary Items\n",
    "mydict1['Job'] = 'Singer'\n",
    "mydict1"
   ]
  },
  {
   "cell_type": "code",
   "execution_count": 27,
   "id": "1976320e-6e68-4b67-b9df-5bc084e8c37e",
   "metadata": {},
   "outputs": [
    {
     "data": {
      "text/plain": [
       "{'Name': 'Ram', 'ID': 3751, 'DOB': 2002, 'Job': 'Singer'}"
      ]
     },
     "execution_count": 27,
     "metadata": {},
     "output_type": "execute_result"
    }
   ],
   "source": [
    "dict1 = {'DOB':2002}\n",
    "mydict1.update(dict1)\n",
    "mydict1"
   ]
  },
  {
   "cell_type": "code",
   "execution_count": 29,
   "id": "4e4cac4f-0b8c-4657-86f6-5875d1c0519b",
   "metadata": {},
   "outputs": [
    {
     "data": {
      "text/plain": [
       "{'Name': 'Ram', 'ID': 3751, 'DOB': 2002, 'Job': 'Singer', 'Address': 'Pune'}"
      ]
     },
     "execution_count": 29,
     "metadata": {},
     "output_type": "execute_result"
    }
   ],
   "source": [
    "mydict1['Address'] = 'Pune' # Adding items in the dictionary\n",
    "mydict1"
   ]
  },
  {
   "cell_type": "code",
   "execution_count": 30,
   "id": "9575bd64-2da9-405b-801c-68458c2a4c4d",
   "metadata": {},
   "outputs": [
    {
     "data": {
      "text/plain": [
       "{'Name': 'Ram', 'ID': 3751, 'DOB': 2002, 'Address': 'Pune'}"
      ]
     },
     "execution_count": 30,
     "metadata": {},
     "output_type": "execute_result"
    }
   ],
   "source": [
    "mydict1.pop('Job') # Removing items from the dictionary using pop() method\n",
    "mydict1"
   ]
  },
  {
   "cell_type": "code",
   "execution_count": 31,
   "id": "9ffe10e8-03e3-42ca-a036-fe5f229e50cf",
   "metadata": {},
   "outputs": [
    {
     "data": {
      "text/plain": [
       "{'Name': 'Ram', 'ID': 3751, 'DOB': 2002}"
      ]
     },
     "execution_count": 31,
     "metadata": {},
     "output_type": "execute_result"
    }
   ],
   "source": [
    "mydict1.popitem() # A random item is removed\n",
    "mydict1"
   ]
  },
  {
   "cell_type": "code",
   "execution_count": 32,
   "id": "612f6b9d-c8ff-4228-ad59-df63127f8cd9",
   "metadata": {},
   "outputs": [
    {
     "data": {
      "text/plain": [
       "{'Name': 'Ram', 'DOB': 2002}"
      ]
     },
     "execution_count": 32,
     "metadata": {},
     "output_type": "execute_result"
    }
   ],
   "source": [
    "del [mydict1['ID']] # remove item using del method\n",
    "mydict1"
   ]
  },
  {
   "cell_type": "code",
   "execution_count": 33,
   "id": "52387549-97bc-4998-9036-a7c97d8f91c0",
   "metadata": {},
   "outputs": [
    {
     "data": {
      "text/plain": [
       "{}"
      ]
     },
     "execution_count": 33,
     "metadata": {},
     "output_type": "execute_result"
    }
   ],
   "source": [
    "mydict1.clear() # Delete all item of the dictionary using clear() method\n",
    "mydict1"
   ]
  },
  {
   "cell_type": "code",
   "execution_count": 34,
   "id": "742fcc95-ff25-47e0-8229-f56ab0bef0cc",
   "metadata": {},
   "outputs": [
    {
     "ename": "NameError",
     "evalue": "name 'mydict1' is not defined",
     "output_type": "error",
     "traceback": [
      "\u001b[1;31m---------------------------------------------------------------------------\u001b[0m",
      "\u001b[1;31mNameError\u001b[0m                                 Traceback (most recent call last)",
      "Cell \u001b[1;32mIn[34], line 2\u001b[0m\n\u001b[0;32m      1\u001b[0m \u001b[38;5;28;01mdel\u001b[39;00m mydict1 \u001b[38;5;66;03m# Deleting the dictionary object\u001b[39;00m\n\u001b[1;32m----> 2\u001b[0m mydict1\n",
      "\u001b[1;31mNameError\u001b[0m: name 'mydict1' is not defined"
     ]
    }
   ],
   "source": [
    "del mydict1 # Deleting the dictionary object\n",
    "mydict1"
   ]
  },
  {
   "cell_type": "markdown",
   "id": "7f7064b7-5fe5-41cf-a5dc-59b499012903",
   "metadata": {},
   "source": [
    "# Copy Dictionary"
   ]
  },
  {
   "cell_type": "code",
   "execution_count": 35,
   "id": "c9c90427-bf03-4b77-b31b-4bcdd273f7d5",
   "metadata": {},
   "outputs": [
    {
     "data": {
      "text/plain": [
       "{'Name': 'Ram', 'ID': 3751, 'DOB': 2002, 'Job': 'Artist'}"
      ]
     },
     "execution_count": 35,
     "metadata": {},
     "output_type": "execute_result"
    }
   ],
   "source": [
    "mydict = {'Name':'Ram', 'ID': 3751, 'DOB': 2002, 'Job':'Artist'}\n",
    "mydict"
   ]
  },
  {
   "cell_type": "code",
   "execution_count": 36,
   "id": "051bf163-1b90-43ef-8684-773976439449",
   "metadata": {},
   "outputs": [],
   "source": [
    "mydict1 = mydict"
   ]
  },
  {
   "cell_type": "code",
   "execution_count": 37,
   "id": "b9c2a434-97db-487b-a915-a108aaf83aaa",
   "metadata": {},
   "outputs": [
    {
     "data": {
      "text/plain": [
       "(2163972358464, 2163972358464)"
      ]
     },
     "execution_count": 37,
     "metadata": {},
     "output_type": "execute_result"
    }
   ],
   "source": [
    "id(mydict), id(mydict1)"
   ]
  },
  {
   "cell_type": "code",
   "execution_count": 38,
   "id": "2ada44b5-36f1-4942-8665-9629f9e11967",
   "metadata": {},
   "outputs": [],
   "source": [
    "mydict2 = mydict.copy()"
   ]
  },
  {
   "cell_type": "code",
   "execution_count": 39,
   "id": "3d44bb40-9e7d-4b86-93a3-0263baf76240",
   "metadata": {},
   "outputs": [
    {
     "data": {
      "text/plain": [
       "2163972242112"
      ]
     },
     "execution_count": 39,
     "metadata": {},
     "output_type": "execute_result"
    }
   ],
   "source": [
    "id(mydict2)"
   ]
  },
  {
   "cell_type": "code",
   "execution_count": 40,
   "id": "cec90e9e-df12-41a4-8805-8280e91553fb",
   "metadata": {},
   "outputs": [
    {
     "data": {
      "text/plain": [
       "{'Name': 'Ram', 'ID': 3751, 'DOB': 2002, 'Job': 'Actor'}"
      ]
     },
     "execution_count": 40,
     "metadata": {},
     "output_type": "execute_result"
    }
   ],
   "source": [
    "mydict['Job'] = 'Actor'\n",
    "mydict"
   ]
  },
  {
   "cell_type": "code",
   "execution_count": 41,
   "id": "9ebb8025-306d-4666-bd3d-fee9ff638d84",
   "metadata": {},
   "outputs": [
    {
     "data": {
      "text/plain": [
       "{'Name': 'Ram', 'ID': 3751, 'DOB': 2002, 'Job': 'Actor'}"
      ]
     },
     "execution_count": 41,
     "metadata": {},
     "output_type": "execute_result"
    }
   ],
   "source": [
    "mydict1 # impacted due to stored on same location"
   ]
  },
  {
   "cell_type": "code",
   "execution_count": 42,
   "id": "4cc82497-5336-4c42-a380-b070830af6e9",
   "metadata": {},
   "outputs": [
    {
     "data": {
      "text/plain": [
       "{'Name': 'Ram', 'ID': 3751, 'DOB': 2002, 'Job': 'Artist'}"
      ]
     },
     "execution_count": 42,
     "metadata": {},
     "output_type": "execute_result"
    }
   ],
   "source": [
    "mydict2 # Not impacted due to stored on different location"
   ]
  },
  {
   "cell_type": "markdown",
   "id": "adce2a3d-5446-4aa9-8262-55b40c3c219f",
   "metadata": {},
   "source": [
    "# Loop through a Dictionary"
   ]
  },
  {
   "cell_type": "code",
   "execution_count": 47,
   "id": "784dc162-017c-4dcf-bfae-a6703e4aef53",
   "metadata": {},
   "outputs": [
    {
     "name": "stdout",
     "output_type": "stream",
     "text": [
      "Name : Ram\n",
      "ID : 3751\n",
      "DOB : 2002\n",
      "Job : Actor\n"
     ]
    }
   ],
   "source": [
    "for i in mydict:\n",
    "    print(i, ':' , mydict[i]) # Key & Value pair"
   ]
  },
  {
   "cell_type": "code",
   "execution_count": 46,
   "id": "86763822-4a0e-4ec0-ae70-f1aeb9e5bd0a",
   "metadata": {},
   "outputs": [
    {
     "name": "stdout",
     "output_type": "stream",
     "text": [
      "Name\n",
      "ID\n",
      "DOB\n",
      "Job\n"
     ]
    }
   ],
   "source": [
    "for i in mydict:\n",
    "    print(i)   # Keys"
   ]
  },
  {
   "cell_type": "code",
   "execution_count": 45,
   "id": "924a3198-2794-4c14-b2c4-5de397169e67",
   "metadata": {},
   "outputs": [
    {
     "name": "stdout",
     "output_type": "stream",
     "text": [
      "Ram\n",
      "3751\n",
      "2002\n",
      "Actor\n"
     ]
    }
   ],
   "source": [
    "for i in mydict:\n",
    "    print(mydict[i]) # Dictionary items (Values)"
   ]
  },
  {
   "cell_type": "markdown",
   "id": "7d4e2824-1854-4380-9ded-61907b21c243",
   "metadata": {},
   "source": [
    "# Dictionary Membership"
   ]
  },
  {
   "cell_type": "code",
   "execution_count": 48,
   "id": "0f4da479-ddbe-441c-bf46-2776f3f28065",
   "metadata": {},
   "outputs": [
    {
     "data": {
      "text/plain": [
       "{'Name': 'Ram', 'ID': 3751, 'DOB': 2002, 'Job': 'Actor'}"
      ]
     },
     "execution_count": 48,
     "metadata": {},
     "output_type": "execute_result"
    }
   ],
   "source": [
    "mydict"
   ]
  },
  {
   "cell_type": "code",
   "execution_count": 49,
   "id": "f459c16c-6ae6-4d6f-96b4-59075b2b28d2",
   "metadata": {},
   "outputs": [
    {
     "data": {
      "text/plain": [
       "True"
      ]
     },
     "execution_count": 49,
     "metadata": {},
     "output_type": "execute_result"
    }
   ],
   "source": [
    "'Name' in mydict # Test if a key is in dictionary or not"
   ]
  },
  {
   "cell_type": "code",
   "execution_count": 51,
   "id": "c22108bd-46ee-4fde-bf81-ccc5f1137d22",
   "metadata": {},
   "outputs": [
    {
     "data": {
      "text/plain": [
       "False"
      ]
     },
     "execution_count": 51,
     "metadata": {},
     "output_type": "execute_result"
    }
   ],
   "source": [
    "'Ram' in mydict  # Membership test can be only done for keys"
   ]
  },
  {
   "cell_type": "code",
   "execution_count": 50,
   "id": "1ecdf0ad-392b-4ced-8dba-e4e35cd6d08d",
   "metadata": {},
   "outputs": [
    {
     "data": {
      "text/plain": [
       "False"
      ]
     },
     "execution_count": 50,
     "metadata": {},
     "output_type": "execute_result"
    }
   ],
   "source": [
    "'Address' in mydict"
   ]
  },
  {
   "cell_type": "code",
   "execution_count": 52,
   "id": "72b3b7bd-f878-4b16-a356-64659335cef8",
   "metadata": {},
   "outputs": [
    {
     "data": {
      "text/plain": [
       "True"
      ]
     },
     "execution_count": 52,
     "metadata": {},
     "output_type": "execute_result"
    }
   ],
   "source": [
    "'ID' in mydict"
   ]
  },
  {
   "cell_type": "markdown",
   "id": "c11a6134-d829-4991-a641-7766c797a317",
   "metadata": {},
   "source": [
    "# All / Any"
   ]
  },
  {
   "cell_type": "code",
   "execution_count": 60,
   "id": "d2542817-8d3c-4c39-b6a5-7a793907a625",
   "metadata": {},
   "outputs": [
    {
     "data": {
      "text/plain": [
       "{'Name': 'Ram', 'ID': 3751, 'DOB': 2002, 'Job': 'Artist'}"
      ]
     },
     "execution_count": 60,
     "metadata": {},
     "output_type": "execute_result"
    }
   ],
   "source": [
    "mydict = {'Name':'Ram', 'ID': 3751, 'DOB': 2002, 'Job':'Artist'}\n",
    "mydict"
   ]
  },
  {
   "cell_type": "code",
   "execution_count": 61,
   "id": "fa77e0c2-254f-4132-b6fb-c167288299a3",
   "metadata": {},
   "outputs": [
    {
     "data": {
      "text/plain": [
       "True"
      ]
     },
     "execution_count": 61,
     "metadata": {},
     "output_type": "execute_result"
    }
   ],
   "source": [
    "all(mydict)"
   ]
  },
  {
   "cell_type": "code",
   "execution_count": 62,
   "id": "8719c83f-33ab-464f-9059-17b718ef2c7c",
   "metadata": {},
   "outputs": [
    {
     "data": {
      "text/plain": [
       "{'Name': 'Ram', 'ID': 3751, 'DOB': 2002, 'Job': 'Artist', 0: 100}"
      ]
     },
     "execution_count": 62,
     "metadata": {},
     "output_type": "execute_result"
    }
   ],
   "source": [
    "mydict[0] = 100\n",
    "mydict"
   ]
  },
  {
   "cell_type": "code",
   "execution_count": 63,
   "id": "914f7f4a-0a4b-4c9d-bd2a-a592316e486a",
   "metadata": {},
   "outputs": [
    {
     "data": {
      "text/plain": [
       "False"
      ]
     },
     "execution_count": 63,
     "metadata": {},
     "output_type": "execute_result"
    }
   ],
   "source": [
    "all(mydict)"
   ]
  },
  {
   "cell_type": "code",
   "execution_count": 64,
   "id": "bfcef5ee-2fd3-428e-a62a-3b328f987da9",
   "metadata": {},
   "outputs": [
    {
     "data": {
      "text/plain": [
       "True"
      ]
     },
     "execution_count": 64,
     "metadata": {},
     "output_type": "execute_result"
    }
   ],
   "source": [
    "any(mydict)"
   ]
  },
  {
   "cell_type": "code",
   "execution_count": null,
   "id": "14144552-017b-4bfc-9903-86c1d74fb26e",
   "metadata": {},
   "outputs": [],
   "source": []
  },
  {
   "cell_type": "code",
   "execution_count": null,
   "id": "cd002ba5-0140-49a8-a119-10d7b7e2969f",
   "metadata": {},
   "outputs": [],
   "source": []
  }
 ],
 "metadata": {
  "kernelspec": {
   "display_name": "Python 3 (ipykernel)",
   "language": "python",
   "name": "python3"
  },
  "language_info": {
   "codemirror_mode": {
    "name": "ipython",
    "version": 3
   },
   "file_extension": ".py",
   "mimetype": "text/x-python",
   "name": "python",
   "nbconvert_exporter": "python",
   "pygments_lexer": "ipython3",
   "version": "3.12.7"
  }
 },
 "nbformat": 4,
 "nbformat_minor": 5
}
